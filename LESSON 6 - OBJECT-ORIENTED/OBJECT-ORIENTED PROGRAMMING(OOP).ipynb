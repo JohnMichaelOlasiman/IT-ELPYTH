{
 "cells": [
  {
   "cell_type": "markdown",
   "id": "de8b77b2-0ace-45c2-87bf-6e5dfcba12ed",
   "metadata": {},
   "source": [
    "# REVIEW EXERCISES 1"
   ]
  },
  {
   "cell_type": "code",
   "execution_count": 2,
   "id": "2ee36c74-27af-4c49-9bf0-487f75f918f1",
   "metadata": {},
   "outputs": [
    {
     "name": "stdout",
     "output_type": "stream",
     "text": [
      "Philo's coat is brown.\n"
     ]
    }
   ],
   "source": [
    "# 1\n",
    "class Dog:\n",
    "    def __init__(self, name, age, coat_color):\n",
    "        self.name = name\n",
    "        self.age = age\n",
    "        self.coat_color = coat_color\n",
    "\n",
    "philo = Dog(\"Philo\", 5, \"brown\")\n",
    "\n",
    "print(f\"{philo.name}'s coat is {philo.coat_color}.\")\n"
   ]
  },
  {
   "cell_type": "code",
   "execution_count": 3,
   "id": "6489a57a-3cf2-4c11-8d58-5475b8802fd2",
   "metadata": {},
   "outputs": [
    {
     "name": "stdout",
     "output_type": "stream",
     "text": [
      "The blue car has 20000 miles.\n",
      "The red car has 30000 miles.\n"
     ]
    }
   ],
   "source": [
    "# 2\n",
    "class Car:\n",
    "    def __init__(self, color, mileage):\n",
    "        self.color = color\n",
    "        self.mileage = mileage\n",
    "\n",
    "blue_car = Car(\"blue\", 20000)\n",
    "red_car = Car(\"red\", 30000)\n",
    "\n",
    "print(f\"The {blue_car.color} car has {blue_car.mileage} miles.\")\n",
    "print(f\"The {red_car.color} car has {red_car.mileage} miles.\")"
   ]
  },
  {
   "cell_type": "code",
   "execution_count": 4,
   "id": "9a225b5e-79dc-411b-8762-776b9f91718e",
   "metadata": {},
   "outputs": [
    {
     "name": "stdout",
     "output_type": "stream",
     "text": [
      "The car's mileage is now 100 miles.\n"
     ]
    }
   ],
   "source": [
    "# 3\n",
    "class Car:\n",
    "    def __init__(self, color, mileage):\n",
    "        self.color = color\n",
    "        self.mileage = mileage\n",
    "    \n",
    "    def drive(self, miles):\n",
    "        self.mileage += miles\n",
    "\n",
    "my_car = Car(\"blue\", 0)\n",
    "\n",
    "my_car.drive(100)\n",
    "\n",
    "print(f\"The car's mileage is now {my_car.mileage} miles.\")"
   ]
  },
  {
   "cell_type": "markdown",
   "id": "30a5dded-a9a6-4772-b78d-5370affca098",
   "metadata": {},
   "source": [
    "# REVIEW EXERCISE 2"
   ]
  },
  {
   "cell_type": "code",
   "execution_count": 16,
   "id": "11776c32-51cc-4ce5-83b8-f68a250e709b",
   "metadata": {},
   "outputs": [
    {
     "name": "stdout",
     "output_type": "stream",
     "text": [
      "Buddy is 3 years old\n",
      "Buddy says Bark\n",
      "Buddy says Woof\n"
     ]
    }
   ],
   "source": [
    "# 1\n",
    "class Dog:\n",
    "    species = \"Canis familiaris\"\n",
    "\n",
    "    def __init__(self, name, age):\n",
    "        self.name = name\n",
    "        self.age = age\n",
    "\n",
    "    def __str__(self):\n",
    "        return f\"{self.name} is {self.age} years old\"\n",
    "\n",
    "    def speak(self, sound=\"Bark\"):\n",
    "        return f\"{self.name} says {sound}\"\n",
    "\n",
    "class GoldenRetriever(Dog):\n",
    "    def __init__(self, name, age):\n",
    "        super().__init__(name, age)\n",
    "\n",
    "golden_retriever = GoldenRetriever(\"Buddy\", 3)\n",
    "\n",
    "print(golden_retriever) \n",
    "print(golden_retriever.speak())\n",
    "print(golden_retriever.speak(\"Woof\"))"
   ]
  },
  {
   "cell_type": "code",
   "execution_count": 17,
   "id": "d679735d-aa1a-48af-b5c5-deea750158e6",
   "metadata": {},
   "outputs": [
    {
     "name": "stdout",
     "output_type": "stream",
     "text": [
      "16\n"
     ]
    }
   ],
   "source": [
    "# 2\n",
    "class Rectangle:\n",
    "    def __init__(self, length, width):\n",
    "        self.length = length\n",
    "        self.width = width\n",
    "\n",
    "    def area(self):\n",
    "        return self.length * self.width\n",
    "\n",
    "\n",
    "class Square(Rectangle):\n",
    "    def __init__(self, side_length):\n",
    "        super().__init__(side_length, side_length)\n",
    "\n",
    "\n",
    "square = Square(4)\n",
    "print(square.area())"
   ]
  },
  {
   "cell_type": "markdown",
   "id": "209198ab-7c2c-40d9-bb80-836f5891ed21",
   "metadata": {},
   "source": [
    "# CHALLENGE: MODEL A FARM"
   ]
  },
  {
   "cell_type": "code",
   "execution_count": 12,
   "id": "70b532e9-b74c-4e38-a51e-ba72dbb2e661",
   "metadata": {},
   "outputs": [],
   "source": [
    "# 1\n",
    "class Animal:\n",
    "    def __init__(self, name, age):\n",
    "        self.name = name\n",
    "        self.age = age\n",
    "\n",
    "    def eat(self):\n",
    "        return f\"{self.name} is eating.\"\n",
    "\n",
    "    def sleep(self):\n",
    "        return f\"{self.name} is sleeping.\"\n",
    "\n",
    "    def make_sound(self):\n",
    "        return f\"{self.name} makes a sound.\""
   ]
  },
  {
   "cell_type": "code",
   "execution_count": 14,
   "id": "d130b90e-b413-4afc-bcf4-7669497eed69",
   "metadata": {},
   "outputs": [],
   "source": [
    "# 2\n",
    "class Cow(Animal):\n",
    "    def __init__(self, name, age, milk_production):\n",
    "        super().__init__(name, age)\n",
    "        self.milk_production = milk_production\n",
    "\n",
    "    def moo(self):\n",
    "        return f\"{self.name} says Moo!\"\n",
    "\n",
    "    def produce_milk(self):\n",
    "        return f\"{self.name} is producing {self.milk_production} liters of milk.\"\n",
    "\n",
    "\n",
    "class Chicken(Animal):\n",
    "    def __init__(self, name, age, egg_count):\n",
    "        super().__init__(name, age)\n",
    "        self.egg_count = egg_count\n",
    "\n",
    "    def cluck(self):\n",
    "        return f\"{self.name} says Cluck!\"\n",
    "\n",
    "    def lay_eggs(self):\n",
    "        return f\"{self.name} has laid {self.egg_count} eggs.\"\n",
    "\n",
    "\n",
    "class Dog(Animal):\n",
    "    def __init__(self, name, age, breed):\n",
    "        super().__init__(name, age)\n",
    "        self.breed = breed\n",
    "\n",
    "    def bark(self):\n",
    "        return f\"{self.name} says Woof!\"\n",
    "\n",
    "    def fetch(self):\n",
    "        return f\"{self.name} is fetching a stick.\"\n"
   ]
  },
  {
   "cell_type": "code",
   "execution_count": 15,
   "id": "7fd97cfd-5e69-46e9-abe9-01d23c196a6a",
   "metadata": {},
   "outputs": [
    {
     "name": "stdout",
     "output_type": "stream",
     "text": [
      "1. Cow Behavior:\n",
      "Bessie is eating.\n",
      "Bessie is sleeping.\n",
      "Bessie says Moo!\n",
      "Bessie is producing 20 liters of milk.\n",
      "\n",
      "2. Chicken Behavior:\n",
      "Clara is eating.\n",
      "Clara is sleeping.\n",
      "Clara says Cluck!\n",
      "Clara has laid 12 eggs.\n",
      "\n",
      "3. Dog Behavior:\n",
      "Max is eating.\n",
      "Max is sleeping.\n",
      "Max says Woof!\n",
      "Max is fetching a stick.\n"
     ]
    }
   ],
   "source": [
    "# 3\n",
    "cow = Cow(\"Bessie\", 5, 20)\n",
    "chicken = Chicken(\"Clara\", 2, 12)\n",
    "dog = Dog(\"Max\", 3, \"Golden Retriever\")\n",
    "\n",
    "print(\"1. Cow Behavior:\")\n",
    "print(cow.eat())\n",
    "print(cow.sleep())\n",
    "print(cow.moo())\n",
    "print(cow.produce_milk())\n",
    "\n",
    "print(\"\\n2. Chicken Behavior:\")\n",
    "print(chicken.eat())\n",
    "print(chicken.sleep())\n",
    "print(chicken.cluck())\n",
    "print(chicken.lay_eggs())\n",
    "\n",
    "print(\"\\n3. Dog Behavior:\")\n",
    "print(dog.eat())\n",
    "print(dog.sleep())\n",
    "print(dog.bark())\n",
    "print(dog.fetch())"
   ]
  },
  {
   "cell_type": "code",
   "execution_count": null,
   "id": "12fb36cb-b4f6-4a40-a93f-cb2cca0ab375",
   "metadata": {},
   "outputs": [],
   "source": []
  }
 ],
 "metadata": {
  "kernelspec": {
   "display_name": "Python 3 (ipykernel)",
   "language": "python",
   "name": "python3"
  },
  "language_info": {
   "codemirror_mode": {
    "name": "ipython",
    "version": 3
   },
   "file_extension": ".py",
   "mimetype": "text/x-python",
   "name": "python",
   "nbconvert_exporter": "python",
   "pygments_lexer": "ipython3",
   "version": "3.13.5"
  }
 },
 "nbformat": 4,
 "nbformat_minor": 5
}
