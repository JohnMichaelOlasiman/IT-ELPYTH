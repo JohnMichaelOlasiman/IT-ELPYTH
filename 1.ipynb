{
 "cells": [
  {
   "cell_type": "markdown",
   "id": "4a5cebc1-6e58-4a8f-98a7-e812e6d2dd43",
   "metadata": {},
   "source": [
    "# Review Question 1"
   ]
  },
  {
   "cell_type": "code",
   "execution_count": 5,
   "id": "acd4c430-b7c2-4d8a-8490-9860447f94ce",
   "metadata": {},
   "outputs": [
    {
     "name": "stdout",
     "output_type": "stream",
     "text": [
      "\n",
      "1. String Length:\n",
      "------------------------------\n",
      "String: 'Hello, World!'\n",
      "Length: 13\n"
     ]
    }
   ],
   "source": [
    "print(\"\\n1. String Length:\")\n",
    "print(\"-\" * 30)\n",
    "\n",
    "my_string = \"Hello, World!\"\n",
    "string_length = len(my_string)\n",
    "print(f\"String: '{my_string}'\")\n",
    "print(f\"Length: {string_length}\")"
   ]
  },
  {
   "cell_type": "code",
   "execution_count": 6,
   "id": "f60019ec-14f9-4283-ae5c-14f251af34b8",
   "metadata": {},
   "outputs": [
    {
     "name": "stdout",
     "output_type": "stream",
     "text": [
      "\n",
      "2. String Concatenation:\n",
      "------------------------------\n",
      "First string: 'Hello'\n",
      "Second string: 'World'\n",
      "Concatenated: 'HelloWorld'\n"
     ]
    }
   ],
   "source": [
    "print(\"\\n2. String Concatenation:\")\n",
    "print(\"-\" * 30)\n",
    "\n",
    "first_string = \"Hello\"\n",
    "second_string = \"World\"\n",
    "concatenated = first_string + second_string\n",
    "print(f\"First string: '{first_string}'\")\n",
    "print(f\"Second string: '{second_string}'\")\n",
    "print(f\"Concatenated: '{concatenated}'\")"
   ]
  },
  {
   "cell_type": "code",
   "execution_count": 7,
   "id": "21b30d13-7c0c-4ada-a5c5-c4041dede12b",
   "metadata": {},
   "outputs": [
    {
     "name": "stdout",
     "output_type": "stream",
     "text": [
      "\n",
      "3. String Concatenation with Space:\n",
      "----------------------------------------\n",
      "First string: 'Good'\n",
      "Second string: 'Morning'\n",
      "With space between: 'Good Morning'\n"
     ]
    }
   ],
   "source": [
    "print(\"\\n3. String Concatenation with Space:\")\n",
    "print(\"-\" * 40)\n",
    "\n",
    "string1 = \"Good\"\n",
    "string2 = \"Morning\"\n",
    "result_with_space = string1 + \" \" + string2\n",
    "print(f\"First string: '{string1}'\")\n",
    "print(f\"Second string: '{string2}'\")\n",
    "print(f\"With space between: '{result_with_space}'\")"
   ]
  },
  {
   "cell_type": "code",
   "execution_count": 8,
   "id": "81c24718-60ea-44e1-a60c-d4293ce7f599",
   "metadata": {},
   "outputs": [
    {
     "name": "stdout",
     "output_type": "stream",
     "text": [
      "\n",
      "4. String Slicing to Extract 'fox':\n",
      "----------------------------------------\n",
      "Original string: 'The quick brown fox jumped over the lazy dog. #1234567890!'\n",
      "Position of 'fox': starts at index 16, ends at index 19\n",
      "Extracted using slice [16:19]: 'fox'\n"
     ]
    }
   ],
   "source": [
    "print(\"\\n4. String Slicing to Extract 'fox':\")\n",
    "print(\"-\" * 40)\n",
    "\n",
    "full_string = \"The quick brown fox jumped over the lazy dog. #1234567890!\"\n",
    "print(f\"Original string: '{full_string}'\")\n",
    "\n",
    "# Find the position of \"fox\" first to show the process\n",
    "fox_start = full_string.find(\"fox\")\n",
    "fox_end = fox_start + 3\n",
    "print(f\"Position of 'fox': starts at index {fox_start}, ends at index {fox_end}\")\n",
    "\n",
    "# Extract \"fox\" using slice notation\n",
    "extracted_fox = full_string[16:19]\n",
    "print(f\"Extracted using slice [16:19]: '{extracted_fox}'\")"
   ]
  },
  {
   "cell_type": "markdown",
   "id": "aed9a36b-9256-43c8-aad3-52234a4d0b3c",
   "metadata": {},
   "source": [
    "# Review Question 2"
   ]
  },
  {
   "cell_type": "code",
   "execution_count": 16,
   "id": "803fc2b6-a387-40b4-9fe7-1e819d20245e",
   "metadata": {},
   "outputs": [
    {
     "name": "stdout",
     "output_type": "stream",
     "text": [
      "animals\n",
      "badger\n",
      "honey bee\n",
      "honeybadger\n",
      "\n"
     ]
    }
   ],
   "source": [
    "# Exercise 1\n",
    "strings = [\"Animals\", \"Badger\", \"Honey Bee\", \"Honeybadger\"]\n",
    "for string in strings:\n",
    "    print(string.lower())\n",
    "\n",
    "print()"
   ]
  },
  {
   "cell_type": "code",
   "execution_count": 18,
   "id": "058d7937-aa5c-47a5-906b-398d61b01bc1",
   "metadata": {},
   "outputs": [
    {
     "name": "stdout",
     "output_type": "stream",
     "text": [
      "ANIMALS\n",
      "BADGER\n",
      "HONEY BEE\n",
      "HONEYBADGER\n",
      "\n"
     ]
    }
   ],
   "source": [
    "# Exercise 2\n",
    "\n",
    "for string in strings:\n",
    "    print(string.upper())\n",
    "\n",
    "print()"
   ]
  },
  {
   "cell_type": "code",
   "execution_count": 19,
   "id": "85379b8c-e4bb-4890-81ae-c1da98310967",
   "metadata": {},
   "outputs": [
    {
     "name": "stdout",
     "output_type": "stream",
     "text": [
      "Filet Mignon\n",
      "Brisket\n",
      "\n"
     ]
    }
   ],
   "source": [
    "# Exercise 3\n",
    "string1 = \"  Filet Mignon\"\n",
    "string2 = \"Brisket  \"\n",
    "print(string1.strip())\n",
    "print(string2.strip())\n",
    "\n",
    "print()"
   ]
  },
  {
   "cell_type": "code",
   "execution_count": 20,
   "id": "d55b307d-bc5d-4a65-bac4-81c3a2fe2ce7",
   "metadata": {},
   "outputs": [
    {
     "name": "stdout",
     "output_type": "stream",
     "text": [
      "False\n",
      "True\n",
      "\n"
     ]
    }
   ],
   "source": [
    "# Exercise 4\n",
    "string1 = \"Becomes\"\n",
    "string2 = \"becomes\"\n",
    "print(string1.startswith(\"be\"))\n",
    "print(string2.startswith(\"be\"))\n",
    "\n",
    "print()"
   ]
  },
  {
   "cell_type": "code",
   "execution_count": 21,
   "id": "7f6f1005-6a6f-4e52-abd0-bb3533893e0b",
   "metadata": {},
   "outputs": [
    {
     "name": "stdout",
     "output_type": "stream",
     "text": [
      "True\n",
      "True\n"
     ]
    }
   ],
   "source": [
    "# Exercise 5\n",
    "print(string1.lower().startswith(\"be\"))\n",
    "print(string2.lower().startswith(\"be\"))"
   ]
  },
  {
   "cell_type": "markdown",
   "id": "4202d411-ec21-4a9e-9fb3-c26d8d29df1d",
   "metadata": {},
   "source": [
    "# Review Question 3"
   ]
  },
  {
   "cell_type": "code",
   "execution_count": 22,
   "id": "555b638a-869d-4a1f-989b-13b1ed261466",
   "metadata": {},
   "outputs": [
    {
     "name": "stdin",
     "output_type": "stream",
     "text": [
      "Enter text:  test\n"
     ]
    },
    {
     "name": "stdout",
     "output_type": "stream",
     "text": [
      "test\n"
     ]
    }
   ],
   "source": [
    "# Exercise 1\n",
    "user_input = input(\"Enter text: \")\n",
    "print(user_input)"
   ]
  },
  {
   "cell_type": "code",
   "execution_count": 23,
   "id": "4da8ff19-333a-40ba-8d77-3c838ad67de4",
   "metadata": {},
   "outputs": [
    {
     "name": "stdin",
     "output_type": "stream",
     "text": [
      "Enter text:  TEST\n"
     ]
    },
    {
     "name": "stdout",
     "output_type": "stream",
     "text": [
      "test\n"
     ]
    }
   ],
   "source": [
    "# Exercise 2\n",
    "user_input = input(\"Enter text: \")\n",
    "print(user_input.lower())"
   ]
  },
  {
   "cell_type": "code",
   "execution_count": 24,
   "id": "13103ce2-f845-4761-87a4-d45e62cae359",
   "metadata": {},
   "outputs": [
    {
     "name": "stdin",
     "output_type": "stream",
     "text": [
      "Enter text:  test\n"
     ]
    },
    {
     "name": "stdout",
     "output_type": "stream",
     "text": [
      "4\n"
     ]
    }
   ],
   "source": [
    "# Exercise 3\n",
    "user_input = input(\"Enter text: \")\n",
    "print(len(user_input))"
   ]
  },
  {
   "cell_type": "markdown",
   "id": "ac56f0ec-b4cd-4a58-87e1-aec9746572b9",
   "metadata": {},
   "source": [
    "# Review Question 4"
   ]
  },
  {
   "cell_type": "code",
   "execution_count": 26,
   "id": "b2481d11-bb94-4705-9ad1-25153b959b42",
   "metadata": {},
   "outputs": [
    {
     "name": "stdin",
     "output_type": "stream",
     "text": [
      "Tell me your name:  John\n"
     ]
    },
    {
     "name": "stdout",
     "output_type": "stream",
     "text": [
      "J\n"
     ]
    }
   ],
   "source": [
    "# Exercise 1\n",
    "user_name = input(\"Tell me your name: \")\n",
    "print(user_name[0].upper())"
   ]
  },
  {
   "cell_type": "markdown",
   "id": "a3e0257d-9724-4798-af34-a399abb2c6a3",
   "metadata": {},
   "source": [
    "# Review Question 5"
   ]
  },
  {
   "cell_type": "code",
   "execution_count": 27,
   "id": "d032cccd-e698-431e-b6e3-0d3a97d4fb1d",
   "metadata": {},
   "outputs": [
    {
     "name": "stdout",
     "output_type": "stream",
     "text": [
      "345\n"
     ]
    }
   ],
   "source": [
    "string_num = \"69\"\n",
    "integer_num = int(string_num)\n",
    "print(integer_num * 5)"
   ]
  },
  {
   "cell_type": "code",
   "execution_count": 28,
   "id": "4083cb9f-92b7-42a9-90e6-b28e343491b4",
   "metadata": {},
   "outputs": [
    {
     "name": "stdout",
     "output_type": "stream",
     "text": [
      "6.28\n"
     ]
    }
   ],
   "source": [
    "string_float = \"3.14\"\n",
    "float_num = float(string_float)\n",
    "print(float_num * 2)"
   ]
  },
  {
   "cell_type": "code",
   "execution_count": 31,
   "id": "af901b2f-167a-4772-ac65-a53711228cca",
   "metadata": {},
   "outputs": [
    {
     "name": "stdout",
     "output_type": "stream",
     "text": [
      "Answer: 42\n"
     ]
    }
   ],
   "source": [
    "my_string = \"Answer:\"\n",
    "my_integer = 42\n",
    "print(my_string + \" \" + str(my_integer))"
   ]
  },
  {
   "cell_type": "code",
   "execution_count": 32,
   "id": "ca64b5d8-dba9-4432-9c6b-1c579d7e56b4",
   "metadata": {},
   "outputs": [
    {
     "name": "stdin",
     "output_type": "stream",
     "text": [
      "Enter first number:  5\n",
      "Enter second number:  6\n"
     ]
    },
    {
     "name": "stdout",
     "output_type": "stream",
     "text": [
      "30.0\n"
     ]
    }
   ],
   "source": [
    "num1 = input(\"Enter first number: \")\n",
    "num2 = input(\"Enter second number: \")\n",
    "result = float(num1) * float(num2)\n",
    "print(result)"
   ]
  },
  {
   "cell_type": "markdown",
   "id": "72a2d43d-9db9-4294-86c1-2a948a7bd1ea",
   "metadata": {},
   "source": [
    "# Review Question 6"
   ]
  },
  {
   "cell_type": "code",
   "execution_count": 38,
   "id": "22776a69-e804-4627-9353-06da930e3c65",
   "metadata": {},
   "outputs": [
    {
     "name": "stdout",
     "output_type": "stream",
     "text": [
      "-1\n"
     ]
    }
   ],
   "source": [
    "# 1. In one line of code, display the result of trying to .find() the sub\u0002string \"a\" in the string \"AAA\".\n",
    "print(\"AAA\".find(\"a\"))"
   ]
  },
  {
   "cell_type": "code",
   "execution_count": 40,
   "id": "09249432-c86b-485e-888e-8a38e313e761",
   "metadata": {},
   "outputs": [
    {
     "name": "stdout",
     "output_type": "stream",
     "text": [
      "Somebody yaid yomething to Samantha.\n"
     ]
    }
   ],
   "source": [
    "# 2. Replace every occurrence of the character \"s\" with \"y” in the string \"Somebody said something to Samantha.\".\n",
    "print(\"Somebody said something to Samantha.\".replace(\"s\", \"y\"))"
   ]
  },
  {
   "cell_type": "code",
   "execution_count": 42,
   "id": "fd79c518-3d11-4a22-8449-82748112b26b",
   "metadata": {},
   "outputs": [
    {
     "name": "stdin",
     "output_type": "stream",
     "text": [
      "Enter some text:  test\n",
      "Enter a letter to find:  e\n"
     ]
    },
    {
     "name": "stdout",
     "output_type": "stream",
     "text": [
      "1\n"
     ]
    }
   ],
   "source": [
    "# 3. Write and test a script that accepts user input using the input() function and displays the result of trying to .find() a particular letter in that input\n",
    "user_text = input(\"Enter some text: \")\n",
    "letter = input(\"Enter a letter to find: \")\n",
    "print(user_text.find(letter))"
   ]
  },
  {
   "cell_type": "markdown",
   "id": "a681d979-bc50-4156-a2b9-2ad43f698f79",
   "metadata": {},
   "source": [
    "# Review Question 7"
   ]
  },
  {
   "cell_type": "code",
   "execution_count": 43,
   "id": "f41cf160-3234-406e-a3d6-121bf00f4331",
   "metadata": {},
   "outputs": [
    {
     "name": "stdin",
     "output_type": "stream",
     "text": [
      "Enter some text:  I am handsome\n"
     ]
    },
    {
     "name": "stdout",
     "output_type": "stream",
     "text": [
      "I 4m h4nd50m3\n"
     ]
    }
   ],
   "source": [
    "user_input = input(\"Enter some text: \")\n",
    "\n",
    "result = user_input.replace(\"a\", \"4\").replace(\"b\", \"8\").replace(\"e\", \"3\").replace(\"l\", \"1\").replace(\"o\", \"0\").replace(\"s\", \"5\").replace(\"t\", \"7\")\n",
    "\n",
    "print(result)"
   ]
  },
  {
   "cell_type": "code",
   "execution_count": null,
   "id": "c850ec9a-e54c-46a8-b076-b049df4aaf53",
   "metadata": {},
   "outputs": [],
   "source": []
  }
 ],
 "metadata": {
  "kernelspec": {
   "display_name": "Python 3 (ipykernel)",
   "language": "python",
   "name": "python3"
  },
  "language_info": {
   "codemirror_mode": {
    "name": "ipython",
    "version": 3
   },
   "file_extension": ".py",
   "mimetype": "text/x-python",
   "name": "python",
   "nbconvert_exporter": "python",
   "pygments_lexer": "ipython3",
   "version": "3.13.5"
  }
 },
 "nbformat": 4,
 "nbformat_minor": 5
}
