{
 "cells": [
  {
   "cell_type": "markdown",
   "id": "aeaf5ecf-ad66-4a09-ab4f-358cfe671a5d",
   "metadata": {},
   "source": [
    "# Review Question 1"
   ]
  },
  {
   "cell_type": "code",
   "execution_count": 2,
   "id": "539ce850-1231-4150-87e8-20cc47098c88",
   "metadata": {},
   "outputs": [
    {
     "name": "stdout",
     "output_type": "stream",
     "text": [
      "25000000\n",
      "25000000\n"
     ]
    }
   ],
   "source": [
    "# 1. Write a script that creates the two variables, num1 and num2. Both num1 and num2 should be assigned the integer literal 25,000,000, one written with underscored and one without. Print num1 and num2 on two separate lines.\n",
    "num1 = 25_000_000  # With underscores\n",
    "num2 = 25000000    # Without underscores\n",
    "\n",
    "print(num1)\n",
    "print(num2)"
   ]
  },
  {
   "cell_type": "code",
   "execution_count": 4,
   "id": "0f386856-5774-4bf8-81b4-403a5ffec503",
   "metadata": {},
   "outputs": [
    {
     "name": "stdout",
     "output_type": "stream",
     "text": [
      "175000.0\n"
     ]
    }
   ],
   "source": [
    "# 2. Write a script that assigns the floating-point literal 175000.0 to the variable num using exponential notation, and then prints num.\n",
    "num = 1.75e5  # 175000.0 in exponential notation\n",
    "print(num)"
   ]
  },
  {
   "cell_type": "code",
   "execution_count": 55,
   "id": "0d80a965-3a6a-4fad-a7c4-ee2478cd43db",
   "metadata": {},
   "outputs": [
    {
     "name": "stdout",
     "output_type": "stream",
     "text": [
      "inf\n"
     ]
    }
   ],
   "source": [
    "# 3. Try and find the smallest exponent N so that 2e<N>, where <N> is replaced with your number, returns inf\n",
    "num = 2e308\n",
    "print(num)"
   ]
  },
  {
   "cell_type": "markdown",
   "id": "588fa023-c917-46d6-8f1b-b55ad8d92071",
   "metadata": {},
   "source": [
    "# Review Question 2"
   ]
  },
  {
   "cell_type": "code",
   "execution_count": 57,
   "id": "33728630-21a9-4351-9bca-d6113f1a9572",
   "metadata": {},
   "outputs": [
    {
     "name": "stdin",
     "output_type": "stream",
     "text": [
      "Enter the base number:  1.2\n",
      "Enter the exponent:  3\n"
     ]
    },
    {
     "name": "stdout",
     "output_type": "stream",
     "text": [
      "1.2 raised to the power of 3 is: 1.7279999999999998\n"
     ]
    }
   ],
   "source": [
    "# 1. Write a script called exponent.py that receives two numbers from the user and displays the first number raised to the power of the second number.\n",
    "try:\n",
    "    base = float(input(\"Enter the base number: \"))\n",
    "    exponent = int(input(\"Enter the exponent: \"))\n",
    "    \n",
    "    result = base ** exponent\n",
    "    \n",
    "    print(f\"{base} raised to the power of {exponent} is: {result}\")\n",
    "    \n",
    "except ValueError:\n",
    "    print(\"Enter valid numbers.\")\n",
    "except OverflowError:\n",
    "    print(\"Result is too large.\")"
   ]
  },
  {
   "cell_type": "markdown",
   "id": "0b71b1bb-e152-4b08-b644-7a2339e02d6c",
   "metadata": {},
   "source": [
    "# Review Question 3\n"
   ]
  },
  {
   "cell_type": "code",
   "execution_count": 59,
   "id": "480dfeb7-ded6-49ea-8494-67edd9261ed2",
   "metadata": {},
   "outputs": [
    {
     "name": "stdin",
     "output_type": "stream",
     "text": [
      "Enter a number:  5.432\n"
     ]
    },
    {
     "name": "stdout",
     "output_type": "stream",
     "text": [
      "5.432 rounded to 2 decimal places is 5.43\n"
     ]
    }
   ],
   "source": [
    "# 1. Write a script that asks the user to input a number and then displays that number rounded to two decimal places.\n",
    "try:\n",
    "    number1 = float(input(\"Enter a number: \"))\n",
    "    rounded_number = round(number1, 2)\n",
    "    print(f\"{number1} rounded to 2 decimal places is {rounded_number}\")\n",
    "except ValueError:\n",
    "    print(\"Enter a valid number.\")\n"
   ]
  },
  {
   "cell_type": "code",
   "execution_count": 63,
   "id": "f86bc1eb-0f8f-4cc6-be20-e75730e81116",
   "metadata": {},
   "outputs": [
    {
     "name": "stdin",
     "output_type": "stream",
     "text": [
      "Enter a number:  -10\n"
     ]
    },
    {
     "name": "stdout",
     "output_type": "stream",
     "text": [
      "The absolute value of -10 is 10.0\n"
     ]
    }
   ],
   "source": [
    "# 2. Write a script that asks the user to input a number and then displays the absolute value of that number\n",
    "try:\n",
    "    number2 = (input(\"Enter a number: \"))\n",
    "    absolute_value = abs(float(number2))\n",
    "    print(f\"The absolute value of {number2} is {absolute_value}\")\n",
    "except ValueError:\n",
    "    print(\"Please enter a valid number.\")"
   ]
  },
  {
   "cell_type": "markdown",
   "id": "60632c13-edf7-4ef8-af5b-fd760d6852b1",
   "metadata": {},
   "source": [
    "# Review Question 4\n"
   ]
  },
  {
   "cell_type": "code",
   "execution_count": 25,
   "id": "46d8559f-4442-4e2e-846f-669517757800",
   "metadata": {},
   "outputs": [
    {
     "name": "stdin",
     "output_type": "stream",
     "text": [
      "Enter a number:  1.5\n",
      "Enter another number:  1.0\n"
     ]
    },
    {
     "name": "stdout",
     "output_type": "stream",
     "text": [
      "The difference between 1.5 and 1.0 is an integer? False!\n"
     ]
    }
   ],
   "source": [
    "# 1. Write a script that asks the user to input two numbers by using the input() function twice, then display whether or not the difference between those two number is an integer.\n",
    "try:\n",
    "    num1 = float(input(\"Enter a number: \"))\n",
    "    num2 = float(input(\"Enter another number: \"))\n",
    "    \n",
    "    difference = num1 - num2\n",
    "    \n",
    "    is_integer = difference == int(difference)\n",
    "    \n",
    "    print(f\"The difference between {num1} and {num2} is an integer? {is_integer}!\")\n",
    "    \n",
    "except ValueError:\n",
    "    print(\"Please enter valid numbers.\")"
   ]
  },
  {
   "cell_type": "markdown",
   "id": "05acd679-1d36-46f9-8c74-990d64a3e046",
   "metadata": {},
   "source": [
    "# Review Question 5\n"
   ]
  },
  {
   "cell_type": "code",
   "execution_count": 45,
   "id": "c5942d84-6be0-4505-9b1a-cf4bef9dbb7b",
   "metadata": {},
   "outputs": [
    {
     "name": "stdout",
     "output_type": "stream",
     "text": [
      "3 ** 0.125 = 1.147\n"
     ]
    }
   ],
   "source": [
    "# 1. Print the result of the calculation 3 ** .125 as a fixed-point number with three decimal places\n",
    "result = 3 ** 0.125\n",
    "print(f\"3 ** 0.125 = {result:.3f}\")"
   ]
  },
  {
   "cell_type": "code",
   "execution_count": 46,
   "id": "42c703dd-d985-4364-b409-7e38265db4aa",
   "metadata": {},
   "outputs": [
    {
     "name": "stdout",
     "output_type": "stream",
     "text": [
      "$150,000.00\n"
     ]
    }
   ],
   "source": [
    "# 2. Print the number 150000 as currency, with the thousands grouped with commas. Currency should be displayed with two decimal places.\n",
    "number = 150000\n",
    "print(f\"${number:,.2f}\")"
   ]
  },
  {
   "cell_type": "code",
   "execution_count": 64,
   "id": "f4714892-2ee7-474e-b376-8c6455fc1a51",
   "metadata": {},
   "outputs": [
    {
     "name": "stdout",
     "output_type": "stream",
     "text": [
      "20%\n"
     ]
    }
   ],
   "source": [
    "# 3. Print the result of 2 / 10 as a percentage with no decimal places. The output should look like 20%. \n",
    "print(f\"{2/10:.0%}\")"
   ]
  },
  {
   "cell_type": "code",
   "execution_count": null,
   "id": "6d9bbf15-2ade-4aff-a036-34af3c55c182",
   "metadata": {},
   "outputs": [],
   "source": []
  }
 ],
 "metadata": {
  "kernelspec": {
   "display_name": "Python 3 (ipykernel)",
   "language": "python",
   "name": "python3"
  },
  "language_info": {
   "codemirror_mode": {
    "name": "ipython",
    "version": 3
   },
   "file_extension": ".py",
   "mimetype": "text/x-python",
   "name": "python",
   "nbconvert_exporter": "python",
   "pygments_lexer": "ipython3",
   "version": "3.13.5"
  }
 },
 "nbformat": 4,
 "nbformat_minor": 5
}
