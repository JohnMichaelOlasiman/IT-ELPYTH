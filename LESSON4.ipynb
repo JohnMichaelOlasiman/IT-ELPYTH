{
 "cells": [
  {
   "cell_type": "markdown",
   "id": "e1cf94e6-f0ed-4f60-85a9-71ba5cd20161",
   "metadata": {},
   "source": [
    "# Review Question 1"
   ]
  },
  {
   "cell_type": "code",
   "execution_count": 37,
   "id": "09c24acf-ad8e-4238-9658-d28aedd93274",
   "metadata": {},
   "outputs": [
    {
     "name": "stdout",
     "output_type": "stream",
     "text": [
      "True\n",
      "False\n",
      "True\n",
      "True\n",
      "True\n",
      "False\n"
     ]
    }
   ],
   "source": [
    "# 1\n",
    "1 <= 1\n",
    "1 != 1\n",
    "1 != 2\n",
    "\"good\" != \"bad\"\n",
    "\"good\" != \"Good\"\n",
    "123 == \"123\"\n",
    "\n",
    "print(1 <= 1)\n",
    "print(1 != 1)\n",
    "print(1 != 2)\n",
    "print(\"good\" != \"bad\")\n",
    "print(\"good\" != \"Good\")\n",
    "print(123 == \"123\")"
   ]
  },
  {
   "cell_type": "code",
   "execution_count": 38,
   "id": "2019183f-633d-44a9-8010-10688081e4ff",
   "metadata": {},
   "outputs": [
    {
     "name": "stdout",
     "output_type": "stream",
     "text": [
      "True\n",
      "True\n",
      "True\n",
      "True\n"
     ]
    }
   ],
   "source": [
    "# 2\n",
    "3 < 4\n",
    "10 > 5\n",
    "\"jack\" != \"jill\"\n",
    "42 != \"42\"\n",
    "\n",
    "print(3 < 4)\n",
    "print(10 > 5)\n",
    "print(\"jack\" != \"jill\")\n",
    "print(42 != \"42\")"
   ]
  },
  {
   "cell_type": "markdown",
   "id": "46804e1f-223f-4e55-b39a-74f08c22f7d0",
   "metadata": {},
   "source": [
    "# Review Question 2"
   ]
  },
  {
   "cell_type": "code",
   "execution_count": 39,
   "id": "54230afa-c1ea-4e8a-9e68-bb004aefb438",
   "metadata": {},
   "outputs": [
    {
     "name": "stdout",
     "output_type": "stream",
     "text": [
      "False\n",
      "False\n",
      "True\n",
      "False\n"
     ]
    }
   ],
   "source": [
    "# 1\n",
    "(1 <= 1) and (1 != 1)\n",
    "not (1 != 2)\n",
    "(\"good\" != \"bad\") or False\n",
    "(\"good\" != \"Good\") and not (1 == 1)\n",
    "\n",
    "print((1 <= 1) and (1 != 1))\n",
    "print(not (1 != 2))\n",
    "print((\"good\" != \"bad\") or False)\n",
    "print((\"good\" != \"Good\") and not (1 == 1))"
   ]
  },
  {
   "cell_type": "code",
   "execution_count": 58,
   "id": "60ab13ba-dd0b-40db-a4b5-87281d9982d2",
   "metadata": {},
   "outputs": [
    {
     "name": "stdout",
     "output_type": "stream",
     "text": [
      "True\n",
      "True\n",
      "True\n"
     ]
    }
   ],
   "source": [
    "# 2\n",
    "(False) == (not True)\n",
    "(True and False) == (True and False)\n",
    "not (True and \"A\") == \"B\"\n",
    "\n",
    "print((False) == (not True))\n",
    "print((True and False) == (True and False))\n",
    "print(not (True and \"A\") == \"B\")"
   ]
  },
  {
   "cell_type": "markdown",
   "id": "8f4dcd36-545a-472b-a291-7c2eb46f44dc",
   "metadata": {},
   "source": [
    "# Review Question 2"
   ]
  },
  {
   "cell_type": "code",
   "execution_count": 68,
   "id": "7734d772-f59e-4aad-a1bc-09565c35d1e1",
   "metadata": {},
   "outputs": [
    {
     "name": "stdin",
     "output_type": "stream",
     "text": [
      "Enter a word:  asd\n"
     ]
    },
    {
     "name": "stdout",
     "output_type": "stream",
     "text": [
      "less than 5 characters\n"
     ]
    }
   ],
   "source": [
    "user_input = input(\"Enter a word: \")\n",
    "char = user_input\n",
    "length = len(char)\n",
    "\n",
    "if length < 5:\n",
    "    print(\"less than 5 characters\")\n",
    "elif length > 5:\n",
    "    print(\"more than 5 characters\")\n",
    "else:\n",
    "    print(\"equal to 5 characters\")"
   ]
  },
  {
   "cell_type": "code",
   "execution_count": null,
   "id": "b7c858bd-2190-4f1d-9602-79c4255e17d7",
   "metadata": {},
   "outputs": [],
   "source": []
  }
 ],
 "metadata": {
  "kernelspec": {
   "display_name": "Python 3 (ipykernel)",
   "language": "python",
   "name": "python3"
  },
  "language_info": {
   "codemirror_mode": {
    "name": "ipython",
    "version": 3
   },
   "file_extension": ".py",
   "mimetype": "text/x-python",
   "name": "python",
   "nbconvert_exporter": "python",
   "pygments_lexer": "ipython3",
   "version": "3.13.5"
  }
 },
 "nbformat": 4,
 "nbformat_minor": 5
}
