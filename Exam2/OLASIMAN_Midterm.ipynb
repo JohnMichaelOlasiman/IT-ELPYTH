{
 "cells": [
  {
   "cell_type": "markdown",
   "id": "4e3186a0-c0a0-4665-9de4-bbc43842b7ff",
   "metadata": {},
   "source": [
    "# Midterm (3rd Year IT): Coding + LLM Critique"
   ]
  },
  {
   "cell_type": "markdown",
   "id": "79a645e3-2bc7-449b-8c20-f84ebcc7b9e4",
   "metadata": {},
   "source": [
    "# OLASIMAN, John Michael"
   ]
  },
  {
   "cell_type": "markdown",
   "id": "1749052b-f83f-42f6-903a-3c30ba8a0185",
   "metadata": {},
   "source": [
    "# Q1 String Normalizer & Finder"
   ]
  },
  {
   "cell_type": "markdown",
   "id": "2a96ba87-98f1-4caa-856d-bf380594983d",
   "metadata": {},
   "source": [
    "Task. Write a function normalize_and_find(text:\n",
    "str, needle: str) -> int that: (1) trims whitespace on both ends, (2) converts to lowercase, then (3) returns the index of the first occurrence of needle using\n",
    "a safe search (return −1 if not found). Discuss alternatives (find vs. index), and\n",
    "how your choice affects error handling. Anchor concepts: stripping, case conversion,\n",
    "find/replace, string immutability. Reference: :contentReference[oaicite:6]index=6"
   ]
  },
  {
   "cell_type": "markdown",
   "id": "b03c9a32-ffc5-426c-b42e-0e361b606314",
   "metadata": {},
   "source": [
    "# Prompt (paste verbatim)"
   ]
  },
  {
   "cell_type": "markdown",
   "id": "b18a93ab-e758-4296-a1fa-efc01cfb0759",
   "metadata": {},
   "source": [
    "Write a Python function normalize_and_find(text: str, needle: str) -> int that:\n",
    "1) trims whitespace on both ends of text,\n",
    "2) converts text to lowercase,\n",
    "3) returns the index of the first occurrence of needle using a safe search (return -1 if not found).\n",
    "Discuss alternatives (find vs. index) and how the choice affects error handling.\n",
    "Add a few quick tests."
   ]
  },
  {
   "cell_type": "markdown",
   "id": "cb09e82e-3f24-4122-b10e-7f80f329e9b2",
   "metadata": {},
   "source": [
    "# ChatGPT Code (paste verbatim)"
   ]
  },
  {
   "cell_type": "code",
   "execution_count": 4,
   "id": "62aaba94-a062-4aa3-99f1-676474522457",
   "metadata": {},
   "outputs": [
    {
     "name": "stdout",
     "output_type": "stream",
     "text": [
      "6\n",
      "-1\n"
     ]
    }
   ],
   "source": [
    "def normalize_and_find(text: str, needle: str) -> int:\n",
    "    t = text.strip().lower()\n",
    "    n = needle.lower()\n",
    "    return t.find(n)\n",
    "\n",
    "# quick tests\n",
    "print(normalize_and_find(\"  Hello World  \", \"world\"))\n",
    "print(normalize_and_find(\"abc\", \"z\"))"
   ]
  },
  {
   "cell_type": "markdown",
   "id": "24b638f0-d2cb-4f24-bde0-c133b2420788",
   "metadata": {},
   "source": [
    "# Critique"
   ]
  },
  {
   "cell_type": "markdown",
   "id": "02762cc1-330a-4d68-b364-e4573391e437",
   "metadata": {},
   "source": [
    "Correctness: For typical cases, it works. It lowercases needle too, which is good given normalized search expectation. Returning find() output is “safe” (−1 if not found).\n",
    "\n",
    "Complexity: O(n+m) time where n = len(text), m = len(needle); O(1) extra space (ignoring Python’s new strings from immutability).\n",
    "\n",
    "Robustness: No type checks; if needle is empty, str.find returns 0 (reasonable, but worth noting). Handles leading/trailing whitespace correctly.\n",
    "\n",
    "Readability/Style: Minimal comments; variable names are short but OK. Could document find vs index behavior and add assertions instead of prints.\n",
    "\n",
    "Faithfulness to lecture: Uses trimming and safe search; highlights immutability implicitly (new strings created by strip/lower)."
   ]
  },
  {
   "cell_type": "markdown",
   "id": "c632e45f-e30f-4be3-8a57-24741e54a550",
   "metadata": {},
   "source": [
    "# Improved Code"
   ]
  },
  {
   "cell_type": "code",
   "execution_count": 41,
   "id": "498ef1a2-28ce-4df6-ac1f-fb11707e485d",
   "metadata": {},
   "outputs": [
    {
     "name": "stdout",
     "output_type": "stream",
     "text": [
      "Q1: Passed.\n"
     ]
    }
   ],
   "source": [
    "def normalize_and_find(text: str, needle: str) -> int:\n",
    "    \"\"\"\n",
    "    Trim whitespace on both ends of `text`, lowercase it, and return the first index of `needle`\n",
    "    (also compared case-insensitively). Returns -1 if not found.\n",
    "\n",
    "    We use str.find() instead of str.index():\n",
    "    - find() -> returns -1 when not found (safe, no exception)\n",
    "    - index() -> raises ValueError when not found (requires try/except)\n",
    "    \"\"\"\n",
    "    if not isinstance(text, str) or not isinstance(needle, str):\n",
    "        raise TypeError(\"Both text and needle must be strings.\")\n",
    "\n",
    "    normalized = text.strip().lower()\n",
    "    return normalized.find(needle.lower())\n",
    "\n",
    "# tests\n",
    "assert normalize_and_find(\"  Hello World  \", \"world\") == 6\n",
    "assert normalize_and_find(\"abc\", \"z\") == -1\n",
    "assert normalize_and_find(\"   \", \"\") == 0          # empty needle convention\n",
    "assert normalize_and_find(\"Case\", \"CASE\") == 0\n",
    "print(\"Q1: Passed.\")"
   ]
  },
  {
   "cell_type": "markdown",
   "id": "9e34fa79-b1d6-4038-9bd5-b03cf24d8206",
   "metadata": {},
   "source": [
    "# Q2 Leetspeak Translator (Parametric)"
   ]
  },
  {
   "cell_type": "markdown",
   "id": "a92cffa1-745a-4440-a563-a41dec08092f",
   "metadata": {},
   "source": [
    "Generalize our leetspeak idea: write translate(text:\n",
    "str, mapping: dict[str,str]) -> str that applies a mapping (e.g., {’a’:’4’,’e’:’3’,...})\n",
    "over lowercase letters only, leaving others unchanged. Explain why strings are immutable and show an efficient approach (e.g., list join vs. repeated concatenation).\n",
    "Anchor concepts: replace, iteration strategies, efficiency. Reference: :contentReference[oaicite:7]index=7"
   ]
  },
  {
   "cell_type": "markdown",
   "id": "c658ad61-546c-4375-966a-83b7fe574b12",
   "metadata": {},
   "source": [
    "# Prompt (paste verbatim)"
   ]
  },
  {
   "cell_type": "markdown",
   "id": "8482d9e0-f2a1-40d7-9382-6efba2d212b3",
   "metadata": {},
   "source": [
    "Write translate(text: str, mapping: dict[str, str]) -> str that applies the mapping to lowercase letters only, leaving uppercase letters and all other characters unchanged. Use an efficient approach (not repeated string concatenation). Add tests that prove lowercase-only behavior (e.g., the uppercase 'E' remains 'E')."
   ]
  },
  {
   "cell_type": "markdown",
   "id": "272d9a51-782a-414d-9bdb-530b8642fcf9",
   "metadata": {},
   "source": [
    "# ChatGPT Code (paste verbatim)"
   ]
  },
  {
   "cell_type": "code",
   "execution_count": 8,
   "id": "86e6aee6-80fb-40e5-8038-64d80210d8e3",
   "metadata": {},
   "outputs": [
    {
     "name": "stdout",
     "output_type": "stream",
     "text": [
      "3l1t3 H4ck3r!\n"
     ]
    }
   ],
   "source": [
    "def translate(text: str, mapping: dict[str, str]) -> str:\n",
    "    out = \"\"\n",
    "    for ch in text:\n",
    "        low = ch.lower()\n",
    "        if low in mapping:\n",
    "            out += mapping[low]\n",
    "        else:\n",
    "            out += ch\n",
    "    return out\n",
    "\n",
    "print(translate(\"Elite Hacker!\", {\"e\":\"3\",\"a\":\"4\",\"i\":\"1\"}))"
   ]
  },
  {
   "cell_type": "markdown",
   "id": "d650fcb5-dbbe-40ba-ab6c-8e945ba6a891",
   "metadata": {},
   "source": [
    "# Critique"
   ]
  },
  {
   "cell_type": "markdown",
   "id": "187dce6e-b531-49f9-9f43-f5d614bb6d98",
   "metadata": {},
   "source": [
    "Correctness: This version incorrectly applies substitutions based on ch.lower() but does not check that the original character is lowercase. That means it translates uppercase letters too (e.g., 'E' → '3'), violating the spec “lowercase only, others unchanged.”\n",
    "\n",
    "Complexity: O(n) time; but string concatenation in a loop is inefficient due to immutability (can degrade toward O(n²)).\n",
    "\n",
    "Robustness: No type checks; assumes mapping values are strings. Leaves non-letters unchanged, which is fine.\n",
    "\n",
    "Readability/Style: No docstring or hints; variable names are clear enough but comments would help.\n",
    "\n",
    "Faithfulness to lecture: Needs to explicitly respect “lowercase only” and use a list buffer + ''.join() for efficiency."
   ]
  },
  {
   "cell_type": "markdown",
   "id": "c73aae56-7762-4d79-af72-46df47c8137b",
   "metadata": {},
   "source": [
    "# Improved Code"
   ]
  },
  {
   "cell_type": "code",
   "execution_count": 42,
   "id": "63f9418f-9eb2-4b5c-b0ac-4c3160f132b2",
   "metadata": {},
   "outputs": [
    {
     "name": "stdout",
     "output_type": "stream",
     "text": [
      "Q2: Passed.\n"
     ]
    }
   ],
   "source": [
    "from typing import Dict\n",
    "\n",
    "def translate(text: str, mapping: Dict[str, str]) -> str:\n",
    "    \"\"\"\n",
    "    Translate `text` into a leetspeak variant using the given `mapping`.\n",
    "    - Applies substitutions ONLY to lowercase letters found in `mapping`.\n",
    "    - Leaves uppercase letters, digits, and symbols unchanged.\n",
    "\n",
    "    Python strings are immutable, meaning every concatenation creates a new copy.\n",
    "    Therefore, we build the result in a list and use ''.join(parts) for O(n) time.\n",
    "    \"\"\"\n",
    "    if not isinstance(text, str):\n",
    "        raise TypeError(\"text must be a string\")\n",
    "    if not isinstance(mapping, dict):\n",
    "        raise TypeError(\"mapping must be a dict\")\n",
    "\n",
    "    parts = []\n",
    "    for ch in text:\n",
    "        if ch.islower() and ch in mapping:\n",
    "            parts.append(mapping[ch])\n",
    "        else:\n",
    "            parts.append(ch)\n",
    "    return \"\".join(parts)\n",
    "\n",
    "# TESTS (covering correctness and lowercase-only behavior)\n",
    "m = {\"e\": \"3\", \"a\": \"4\", \"i\": \"1\"}\n",
    "\n",
    "# Lowercase letters are mapped, uppercase left unchanged\n",
    "assert translate(\"Elite Hacker!\", m) == \"El1t3 H4ck3r!\"\n",
    "\n",
    "# Mixed case: only lowercase 'e' and 'i' replaced\n",
    "assert translate(\"eAi\", m) == \"3A1\"\n",
    "\n",
    "# Non-letters remain unchanged\n",
    "assert translate(\"123-!?\", m) == \"123-!?\"\n",
    "\n",
    "# Lowercase-only transformation confirmed\n",
    "assert translate(\"AEIaei\", m) == \"AEI431\"\n",
    "\n",
    "# Empty string test\n",
    "assert translate(\"\", m) == \"\"\n",
    "print(\"Q2: Passed.\")"
   ]
  },
  {
   "cell_type": "markdown",
   "id": "91d019fc-22de-45f0-8a94-60b755cbc8cc",
   "metadata": {},
   "source": [
    "# Q3 Currency Formatter & Rounding Ties-to-Even"
   ]
  },
  {
   "cell_type": "markdown",
   "id": "b1de2c39-1b93-4114-9e32-b927628e5c91",
   "metadata": {},
   "source": [
    "Write fmt_money(x: float)\n",
    "-> str that returns a string like 1,234.50 using proper rounding (banker’s rounding / ties-to-even). Include test cases that demonstrate ties (e.g., 2.5, 3.5). Explain floating-point representation error and how formatting mitigates it for display. Anchor concepts: numbers, round, representation error, formatted printing. Reference:\n",
    ":contentReference[oaicite:8]index=8"
   ]
  },
  {
   "cell_type": "markdown",
   "id": "9968bc6a-a9ac-405f-b564-6ca7f5cfbecc",
   "metadata": {},
   "source": [
    "# Prompt (paste verbatim)"
   ]
  },
  {
   "cell_type": "markdown",
   "id": "0a28e993-3821-44c8-a44b-9a202104b90e",
   "metadata": {},
   "source": [
    "Write fmt_money(x: float) -> str that returns a string like 1,234.50 using ties-to-even (banker’s rounding). Include tests showing 2.5 and 3.5 behavior. Briefly explain float representation and why formatting helps."
   ]
  },
  {
   "cell_type": "markdown",
   "id": "99b0d82f-ceb8-4b57-aed8-77f6c917662c",
   "metadata": {},
   "source": [
    "# ChatGPT Code (paste verbatim)"
   ]
  },
  {
   "cell_type": "code",
   "execution_count": 13,
   "id": "3ea6af33-c02f-4d2e-8f37-a31126917c1a",
   "metadata": {},
   "outputs": [
    {
     "name": "stdout",
     "output_type": "stream",
     "text": [
      "1,234.50\n",
      "2.50\n",
      "3.50\n"
     ]
    }
   ],
   "source": [
    "def fmt_money(x: float) -> str:\n",
    "    return f\"{round(x, 2):,.2f}\"\n",
    "\n",
    "print(fmt_money(1234.5))\n",
    "print(fmt_money(2.5))\n",
    "print(fmt_money(3.5))"
   ]
  },
  {
   "cell_type": "markdown",
   "id": "d9351619-93d8-4e6d-8841-fdda527e5fe0",
   "metadata": {},
   "source": [
    "# Critique"
   ]
  },
  {
   "cell_type": "markdown",
   "id": "1e0ebf88-cfbf-4e85-88fd-ddc2109f3d7d",
   "metadata": {},
   "source": [
    "Correctness: Python’s built-in round(x, 2) is round-half-even on the binary float, but floating-point representation can make 2.5 not exactly 2.5 internally. Formatting may still yield correct ties-to-even in many cases, but relying on float can produce surprises for values like 2.675.\n",
    "\n",
    "Complexity: O(1).\n",
    "\n",
    "Robustness: No type checks. Doesn’t handle non-float numerics (e.g., Decimal, int).\n",
    "\n",
    "Readability/Style: Minimal. Lacks docstring and explanation.\n",
    "\n",
    "Faithfulness: Better to use Decimal with ROUND_HALF_EVEN to guarantee banker’s rounding."
   ]
  },
  {
   "cell_type": "markdown",
   "id": "91ba68e3-5900-42ec-a340-7c03f62da00d",
   "metadata": {},
   "source": [
    "# Improved Code"
   ]
  },
  {
   "cell_type": "code",
   "execution_count": 40,
   "id": "5e14d066-8b77-4b4a-b102-1ed19aba9dce",
   "metadata": {},
   "outputs": [
    {
     "name": "stdout",
     "output_type": "stream",
     "text": [
      "All Q3 fmt_money tests passed.\n"
     ]
    }
   ],
   "source": [
    "from decimal import Decimal, ROUND_HALF_EVEN, InvalidOperation\n",
    "\n",
    "def fmt_money(x: float) -> str:\n",
    "    \"\"\"\n",
    "    Format a number like 1,234.50 using ties-to-even rounding with Decimal.\n",
    "\n",
    "    Banker’s rounding (ROUND_HALF_EVEN):\n",
    "    - .5 values are rounded to the nearest even digit.\n",
    "    - Using Decimal avoids binary floating-point errors (e.g., 2.675 issue).\n",
    "    \"\"\"\n",
    "    try:\n",
    "        d = Decimal(str(x)).quantize(Decimal(\"0.01\"), rounding=ROUND_HALF_EVEN)\n",
    "    except (InvalidOperation, ValueError, TypeError) as exc:\n",
    "        raise TypeError(\"x must be a real number convertible to Decimal\") from exc\n",
    "    return f\"{d:,.2f}\"\n",
    "\n",
    "# Updated tests (true “ties-to-even” behavior at the cent level)\n",
    "# Explanation:\n",
    "# - 2.5 has no fractional cent -> 2.50\n",
    "# - 3.5 has no fractional cent -> 3.50\n",
    "# - 2.675 rounds to 2.68 (since 2.675 is halfway between 2.67 and 2.68)\n",
    "# - 2.685 rounds to 2.68 (nearest even)\n",
    "# - 2.695 rounds to 2.70 (next even)\n",
    "# - rounding applies at the 2-decimal (cent) position, not integer position.\n",
    "\n",
    "assert fmt_money(2.5) == \"2.50\"\n",
    "assert fmt_money(3.5) == \"3.50\"\n",
    "assert fmt_money(1234.5) == \"1,234.50\"\n",
    "assert fmt_money(2.675) == \"2.68\"  # ties-to-even at cent precision\n",
    "assert fmt_money(2.685) == \"2.68\"\n",
    "assert fmt_money(2.695) == \"2.70\"\n",
    "assert fmt_money(0) == \"0.00\"\n",
    "\n",
    "print(\"All Q3 fmt_money tests passed.\")"
   ]
  },
  {
   "cell_type": "markdown",
   "id": "258a94ef-832d-4671-ade8-7cebe311b014",
   "metadata": {},
   "source": [
    "# Q4 Exponent Tool & Input Validation"
   ]
  },
  {
   "cell_type": "markdown",
   "id": "e07f57ca-ebc2-43e0-98ca-a58c4dfd4120",
   "metadata": {},
   "source": [
    "Create a CLI program exponent.py that\n",
    "reads two values, validates they are numeric, handles errors gracefully (e.g., ValueError),\n",
    "and prints a ** b with clear messages. Compare using try/except vs. pre-validation\n",
    "with str.isdigit() (and why isdigit() is insufficient for negatives/floats). Anchor concepts: arithmetic operators, exceptions, input. Reference: :contentReference[oaicite:9]index=9, :contentReference[oaicite:10]index=10"
   ]
  },
  {
   "cell_type": "markdown",
   "id": "ce40b736-bd2a-4f2f-afe6-5a8317ae8ab2",
   "metadata": {},
   "source": [
    "# Prompt (paste verbatim)"
   ]
  },
  {
   "cell_type": "markdown",
   "id": "cb570ad5-aada-4ed2-ab57-c4ca84f71999",
   "metadata": {},
   "source": [
    "Create a CLI program exponent.py that reads two values, validates they are numeric, handles errors (ValueError) gracefully, and prints a ** b. Compare try/except vs str.isdigit() in comments. Allow floats and negatives."
   ]
  },
  {
   "cell_type": "markdown",
   "id": "1cffa345-9779-4393-a9e2-8444d66d7ec3",
   "metadata": {},
   "source": [
    "# ChatGPT Code (paste verbatim)"
   ]
  },
  {
   "cell_type": "code",
   "execution_count": 16,
   "id": "37e60890-07d5-4368-8f8e-0f1929d18e58",
   "metadata": {},
   "outputs": [
    {
     "name": "stdin",
     "output_type": "stream",
     "text": [
      "Base:  2\n",
      "Exponent:  3\n"
     ]
    },
    {
     "name": "stdout",
     "output_type": "stream",
     "text": [
      "8.0\n"
     ]
    }
   ],
   "source": [
    "# exponent.py\n",
    "a = input(\"Base: \")\n",
    "b = input(\"Exponent: \")\n",
    "if a.replace('.', '', 1).isdigit() and b.replace('.', '', 1).isdigit():\n",
    "    a = float(a)\n",
    "    b = float(b)\n",
    "    print(a ** b)\n",
    "else:\n",
    "    print(\"Invalid input\")\n"
   ]
  },
  {
   "cell_type": "markdown",
   "id": "7afeb531-8e60-452a-afc6-e698eb4cf743",
   "metadata": {},
   "source": [
    "# Critique"
   ]
  },
  {
   "cell_type": "markdown",
   "id": "e8bbd98f-b163-4f8e-9005-873a94b7bdc6",
   "metadata": {},
   "source": [
    "Correctness: Works for positive floats like 3.14, but fails for negatives (e.g., -2.5) and scientific notation (1e-3). str.isdigit() (even with simple replace) is insufficient.\n",
    "\n",
    "Complexity: O(1).\n",
    "\n",
    "Robustness: Poor input coverage; no error messaging differentiation; no exception handling.\n",
    "\n",
    "Readability/Style: No functions or docstrings; inline logic.\n",
    "\n",
    "Faithfulness: The assignment explicitly asks to compare try/except vs pre-validation and to handle errors gracefully."
   ]
  },
  {
   "cell_type": "markdown",
   "id": "67259ae8-4908-4ce6-a4e1-640b1ba11f42",
   "metadata": {},
   "source": [
    "# Improved Code"
   ]
  },
  {
   "cell_type": "code",
   "execution_count": 51,
   "id": "83c2569d-9158-4ef0-ad05-4fc15854e688",
   "metadata": {},
   "outputs": [
    {
     "name": "stdin",
     "output_type": "stream",
     "text": [
      "Enter base (e.g., -2, 3.5, 1e-3):  3\n",
      "Enter exponent (e.g., 3, -0.5):  5\n"
     ]
    },
    {
     "name": "stdout",
     "output_type": "stream",
     "text": [
      "Result: 3 ** 5 = 243.0\n",
      "Q4: All non-interactive tests passed.\n"
     ]
    }
   ],
   "source": [
    "# exponent.py\n",
    "\n",
    "def parse_number(s: str) -> float:\n",
    "    \"\"\"Convert string to float, raising ValueError if invalid.\"\"\"\n",
    "    return float(s.strip())\n",
    "\n",
    "def exponentiate(base_str: str, exp_str: str) -> float:\n",
    "    \"\"\"\n",
    "    Validate and compute a ** b using try/except.\n",
    "    Prefer this over str.isdigit(), which fails for negatives (-2) and scientific notation (1e-3).\n",
    "    \"\"\"\n",
    "    try:\n",
    "        a = parse_number(base_str)\n",
    "        b = parse_number(exp_str)\n",
    "        return a ** b\n",
    "    except ValueError:\n",
    "        # Graceful error for the CLI and for callers\n",
    "        raise ValueError(\"Invalid input: both values must be numeric (e.g., -2, 3.5, 1e-3).\")\n",
    "\n",
    "def main() -> None:\n",
    "    \"\"\"\n",
    "    CLI entry point that:\n",
    "      - reads two values\n",
    "      - validates with try/except\n",
    "      - prints a ** b with clear messages\n",
    "    Also contrasts try/except vs str.isdigit(): the latter is insufficient for negatives/floats/exponents.\n",
    "    \"\"\"\n",
    "    try:\n",
    "        base_raw = input(\"Enter base (e.g., -2, 3.5, 1e-3): \")\n",
    "        exp_raw = input(\"Enter exponent (e.g., 3, -0.5): \")\n",
    "        result = exponentiate(base_raw, exp_raw)\n",
    "        print(f\"Result: {base_raw.strip()} ** {exp_raw.strip()} = {result}\")\n",
    "    except ValueError as exc:\n",
    "        print(f\"Error: {exc}\")\n",
    "\n",
    "if __name__ == \"__main__\":\n",
    "    main()\n",
    "\n",
    "# Non-interactive checks \n",
    "assert exponentiate(\"2\", \"3\") == 8.0\n",
    "assert exponentiate(\"-2\", \"3\") == -8.0\n",
    "assert exponentiate(\"2.5\", \"2\") == 6.25\n",
    "assert abs(exponentiate(\"1e2\", \"2\") - 1e4) < 1e-9\n",
    "print(\"Q4: All non-interactive tests passed.\")\n"
   ]
  },
  {
   "cell_type": "markdown",
   "id": "d808bf7a-1d60-4d00-9caa-0bb32bc20e7a",
   "metadata": {},
   "source": [
    "# Q5 Password Policy Checker (If/Elif/Else + Loops)"
   ]
  },
  {
   "cell_type": "markdown",
   "id": "2c3cdac8-c07a-42f0-843a-18c77aebb269",
   "metadata": {},
   "source": [
    "Implement check_password(pw:\n",
    "str) -> dict that validates: length ≥ 10, at least one uppercase, one lowercase,\n",
    "one digit, one symbol in !@#$%^&*, and no spaces. Return a dict of booleans per\n",
    "rule and an overall pass/fail. Include a loop that prompts until a valid password\n",
    "is entered (allow quit with Q/q). Anchor concepts: conditionals, logical operators,\n",
    "loops, break/continue. Reference: :contentReference[oaicite:11]index=11"
   ]
  },
  {
   "cell_type": "markdown",
   "id": "defd8e2c-f375-4da8-b14a-4573e9c8277b",
   "metadata": {},
   "source": [
    "# Prompt (paste verbatim)"
   ]
  },
  {
   "cell_type": "markdown",
   "id": "0cb5ad75-0b5f-4e38-89b0-7ccd937a811d",
   "metadata": {},
   "source": [
    "Implement check_password(pw: str) -> dict that validates: length ≥ 10, at least one uppercase, one lowercase, one digit, one symbol in !@#$%^&*, and no spaces. Return a dict with booleans per rule and an overall pass/fail. Also add a loop that prompts until valid (allow quit with Q/q). Add basic tests."
   ]
  },
  {
   "cell_type": "markdown",
   "id": "e305e093-c4ad-4c79-8eae-69a8f18721c8",
   "metadata": {},
   "source": [
    "# ChatGPT Code (paste verbatim)"
   ]
  },
  {
   "cell_type": "code",
   "execution_count": 20,
   "id": "6dc6711c-558a-43f9-9a2f-263167d5d140",
   "metadata": {},
   "outputs": [
    {
     "name": "stdout",
     "output_type": "stream",
     "text": [
      "{'length': True, 'upper': True, 'lower': True, 'digit': True, 'symbol': True, 'no_space': True, 'ok': True}\n"
     ]
    }
   ],
   "source": [
    "def check_password(pw: str) -> dict:\n",
    "    specials = \"!@#$%^&*\"\n",
    "    rules = {\n",
    "        \"length\": len(pw) >= 10,\n",
    "        \"upper\": any(c.isupper() for c in pw),\n",
    "        \"lower\": any(c.islower() for c in pw),\n",
    "        \"digit\": any(c.isdigit() for c in pw),\n",
    "        \"symbol\": any(c in specials for c in pw),\n",
    "        \"no_space\": \" \" not in pw,\n",
    "    }\n",
    "    rules[\"ok\"] = all(rules.values())\n",
    "    return rules\n",
    "\n",
    "def prompt_loop():\n",
    "    while True:\n",
    "        pw = input(\"Enter password (Q to quit): \")\n",
    "        if pw.lower() == \"q\":\n",
    "            print(\"bye\")\n",
    "            break\n",
    "        result = check_password(pw)\n",
    "        print(result)\n",
    "        if result[\"ok\"]:\n",
    "            print(\"accepted\")\n",
    "            break\n",
    "\n",
    "# quick tests\n",
    "print(check_password(\"Abcd1234!!\"))\n"
   ]
  },
  {
   "cell_type": "markdown",
   "id": "2617d0fd-b8b0-4509-a659-f3e8dd61f720",
   "metadata": {},
   "source": [
    "# Critique"
   ]
  },
  {
   "cell_type": "markdown",
   "id": "fe8c85a7-abf2-48f4-ab4d-817ce73ea4e7",
   "metadata": {},
   "source": [
    "Correctness: Meets rules. However, prints dicts directly; better UX would summarize missing rules.\n",
    "\n",
    "Complexity: O(n) time for checks; each scan uses generators—fine.\n",
    "\n",
    "Robustness: No type checks. Accepts any string content; spaces check is correct. Loop is fine.\n",
    "\n",
    "Readability/Style: Could add docstrings, clearer key names, and unit-like assertions.\n",
    "\n",
    "Faithfulness: Matches lecture-style rule aggregation and boolean logic."
   ]
  },
  {
   "cell_type": "markdown",
   "id": "fda993a5-48a8-4f71-9c96-1c1d16091754",
   "metadata": {},
   "source": [
    "# Improved Code"
   ]
  },
  {
   "cell_type": "code",
   "execution_count": 44,
   "id": "95cc4212-0245-45d8-b40e-cfc2366eb700",
   "metadata": {},
   "outputs": [
    {
     "name": "stdout",
     "output_type": "stream",
     "text": [
      "Q5: Passed (non-interactive).\n"
     ]
    }
   ],
   "source": [
    "from typing import Dict\n",
    "\n",
    "ALLOWED_SYMBOLS = set(\"!@#$%^&*\")\n",
    "\n",
    "def check_password(pw: str) -> Dict[str, bool]:\n",
    "    \"\"\"\n",
    "    Validate password rules:\n",
    "      - length >= 10\n",
    "      - at least one uppercase, lowercase, digit, and one of !@#$%^&*\n",
    "      - no spaces\n",
    "    Returns a dict with per-rule booleans and overall 'ok'.\n",
    "    \"\"\"\n",
    "    if not isinstance(pw, str):\n",
    "        raise TypeError(\"pw must be a string\")\n",
    "\n",
    "    rules = {\n",
    "        \"length_ge_10\": len(pw) >= 10,\n",
    "        \"has_upper\": any(c.isupper() for c in pw),\n",
    "        \"has_lower\": any(c.islower() for c in pw),\n",
    "        \"has_digit\": any(c.isdigit() for c in pw),\n",
    "        \"has_symbol\": any(c in ALLOWED_SYMBOLS for c in pw),\n",
    "        \"no_spaces\": \" \" not in pw,\n",
    "    }\n",
    "    rules[\"ok\"] = all(rules.values())\n",
    "    return rules\n",
    "\n",
    "def prompt_until_valid() -> None:\n",
    "    \"\"\"Prompt until a valid password is entered; Q/q quits.\"\"\"\n",
    "    while True:\n",
    "        pw = input(\"Enter password (Q to quit): \")\n",
    "        if pw.lower() == \"q\":\n",
    "            print(\"Goodbye.\")\n",
    "            return\n",
    "        result = check_password(pw)\n",
    "        if result[\"ok\"]:\n",
    "            print(\"Password accepted.\")\n",
    "            return\n",
    "        else:\n",
    "            missing = [k for k, v in result.items() if k != \"ok\" and not v]\n",
    "            print(\"Invalid password. Failed rules:\", \", \".join(missing))\n",
    "\n",
    "# tests\n",
    "assert check_password(\"Abcd1234!!\")[\"ok\"] is True\n",
    "assert check_password(\"short1!A\")[\"ok\"] is False\n",
    "assert check_password(\"NoDigits!!!!\")[\"ok\"] is False\n",
    "assert check_password(\"lowercase123!\")[\"ok\"] is False\n",
    "assert check_password(\"UPPERCASE123!\")[\"ok\"] is False\n",
    "assert check_password(\"With space 123!\")[\"ok\"] is False\n",
    "print(\"Q5: Passed (non-interactive).\")"
   ]
  },
  {
   "cell_type": "markdown",
   "id": "ab6d590f-c46b-4f19-8f70-13dd6dc960f3",
   "metadata": {},
   "source": [
    "# Q6 Dice Simulation (Monte Carlo)"
   ]
  },
  {
   "cell_type": "markdown",
   "id": "2e3e1256-4b2c-4cf8-9bd7-9ed6007187e2",
   "metadata": {},
   "source": [
    "Write roll() -> int to simulate a fair die,\n",
    "then simulate 100,000 rolls to estimate the probability that the sum of two dice\n",
    "equals 7. Compare empirical result to the exact probability. Comment on random\n",
    "seeding and reproducibility. Anchor concepts: random module, simulation, averages.\n",
    "Reference: :contentReference[oaicite:12]index=12"
   ]
  },
  {
   "cell_type": "markdown",
   "id": "a355df55-f591-48fb-887c-8a2e6045192e",
   "metadata": {},
   "source": [
    "# Prompt (paste verbatim)"
   ]
  },
  {
   "cell_type": "markdown",
   "id": "b33cd21c-39b4-42fe-916d-f68d24644bf9",
   "metadata": {},
   "source": [
    "Write roll() -> int to simulate a fair die (1..6). Simulate 100,000 trials of the sum of two dice equalling 7, report the empirical probability, and compare to exact probability. Mention seeding/reproducibility. Add a quick assertion that the estimate is close."
   ]
  },
  {
   "cell_type": "markdown",
   "id": "962e5a3a-d39e-448c-b459-41b59b603484",
   "metadata": {},
   "source": [
    "# ChatGPT Code (paste verbatim)"
   ]
  },
  {
   "cell_type": "code",
   "execution_count": 22,
   "id": "e3c9c3ef-4335-4eba-b2ea-5be678f78999",
   "metadata": {},
   "outputs": [
    {
     "name": "stdout",
     "output_type": "stream",
     "text": [
      "0.16792\n"
     ]
    }
   ],
   "source": [
    "import random\n",
    "\n",
    "def roll():\n",
    "    return random.randint(1, 6)\n",
    "\n",
    "trials = 100000\n",
    "count = 0\n",
    "for _ in range(trials):\n",
    "    if roll() + roll() == 7:\n",
    "        count += 1\n",
    "print(count / trials)"
   ]
  },
  {
   "cell_type": "markdown",
   "id": "2ae8238d-657d-455c-84b5-e3e2737e516f",
   "metadata": {},
   "source": [
    "# Critique"
   ]
  },
  {
   "cell_type": "markdown",
   "id": "8fdf675b-877e-4824-8f6c-6cc32a639fb6",
   "metadata": {},
   "source": [
    "Correctness: Correct simulation; prints a number ~0.1667.\n",
    "\n",
    "Complexity: O(trials); memory O(1).\n",
    "\n",
    "Robustness: No seed control; no comparison to exact probability; no tolerance check.\n",
    "\n",
    "Readability/Style: No docstrings; constants unlabelled.\n",
    "\n",
    "Faithfulness: Should state exact probability 6/36 = 1/6 and add reproducibility note."
   ]
  },
  {
   "cell_type": "markdown",
   "id": "cf9a3a6a-533a-43d6-89a4-cf9fc233992f",
   "metadata": {},
   "source": [
    "# Improved Code"
   ]
  },
  {
   "cell_type": "code",
   "execution_count": 60,
   "id": "72c1e7a5-eac7-4be0-9930-20469f28df26",
   "metadata": {},
   "outputs": [
    {
     "name": "stdout",
     "output_type": "stream",
     "text": [
      "After 100,000 trials:\n",
      "Empirical probability: 0.164550\n",
      "Exact probability:     0.166667\n",
      "Absolute error:         0.002117\n",
      "Q6: Empirical=0.1646, Exact=0.1667, Difference=0.0021\n"
     ]
    }
   ],
   "source": [
    "import random\n",
    "\n",
    "def roll() -> int:\n",
    "    \"\"\"Return a fair die roll (1–6).\"\"\"\n",
    "    return random.randint(1, 6)\n",
    "\n",
    "def estimate_sum_seven_probability(trials: int = 100_000, seed: int | None = 12345) -> float:\n",
    "    \"\"\"\n",
    "    Estimate P(sum of two dice == 7) via Monte Carlo simulation.\n",
    "    Uses a fixed seed for reproducibility.\n",
    "\n",
    "    Args:\n",
    "        trials: number of random experiments\n",
    "        seed: optional random seed for reproducibility\n",
    "    Returns:\n",
    "        Estimated probability as a float.\n",
    "    \"\"\"\n",
    "    if seed is not None:\n",
    "        random.seed(seed)  # ensures reproducible random sequence\n",
    "    hits = 0\n",
    "    for _ in range(trials):\n",
    "        if roll() + roll() == 7:\n",
    "            hits += 1\n",
    "    return hits / trials\n",
    "\n",
    "def main() -> None:\n",
    "    \"\"\"\n",
    "    CLI version: run simulation and display empirical vs exact probability.\n",
    "    Demonstrates reproducibility and convergence with large n.\n",
    "    \"\"\"\n",
    "    trials = 100_000\n",
    "    exact = 1 / 6  # analytical probability for two dice summing to 7\n",
    "    est = estimate_sum_seven_probability(trials)\n",
    "    print(f\"After {trials:,} trials:\")\n",
    "    print(f\"Empirical probability: {est:.6f}\")\n",
    "    print(f\"Exact probability:     {exact:.6f}\")\n",
    "    print(f\"Absolute error:         {abs(est - exact):.6f}\")\n",
    "\n",
    "if __name__ == \"__main__\":\n",
    "    main()\n",
    "\n",
    "# --- Non-interactive notebook checks for grading visibility ---\n",
    "exact = 1 / 6\n",
    "est = estimate_sum_seven_probability(trials=100_000, seed=12345)\n",
    "assert abs(est - exact) < 0.01\n",
    "print(f\"Q6: Empirical={est:.4f}, Exact={exact:.4f}, Difference={abs(est - exact):.4f}\")"
   ]
  },
  {
   "cell_type": "markdown",
   "id": "973c0c22-ae12-4794-b1f3-fc0b862083a3",
   "metadata": {},
   "source": [
    "# Q7 OOP: Vehicles with Odometer and Fuel"
   ]
  },
  {
   "cell_type": "markdown",
   "id": "a7f93de0-f719-4f35-be21-d4037a4d5759",
   "metadata": {},
   "source": [
    "Design classes Vehicle (base),\n",
    "Car and Truck (children). Each has color, mileage, and fuel_liters. Provide\n",
    "drive(km, km_per_liter) which increments mileage and decreases fuel (never below 0) and refuel(liters). Show how inheritance avoids duplication and add\n",
    "a method override in Truck (e.g., different efficiency). Include a minimal test\n",
    "script. Anchor concepts: classes vs. instances, attributes, instance methods, inheritance/override. Reference: :contentReference[oaicite:13]index=13"
   ]
  },
  {
   "cell_type": "markdown",
   "id": "0d74f6f0-744e-453e-9893-38c8cf8f3ad1",
   "metadata": {},
   "source": [
    "# Prompt (paste verbatim)"
   ]
  },
  {
   "cell_type": "markdown",
   "id": "4cad705a-1128-47aa-a785-f94a84f619c6",
   "metadata": {},
   "source": [
    "Design classes Vehicle (base), Car and Truck (children). Each has color, mileage (km), fuel_liters. Provide drive(km, km_per_liter) which increments mileage and decreases fuel (never below 0), and refuel(liters). Show how inheritance avoids duplication and override Truck.drive to model different efficiency (e.g., extra 10% fuel use). Include a minimal test script."
   ]
  },
  {
   "cell_type": "markdown",
   "id": "c21b7940-6e02-4955-81bf-e4619e413676",
   "metadata": {},
   "source": [
    "# ChatGPT Code (paste verbatim)"
   ]
  },
  {
   "cell_type": "code",
   "execution_count": 25,
   "id": "c00931fb-5f10-431b-8f6f-64775aa0f609",
   "metadata": {},
   "outputs": [
    {
     "name": "stdout",
     "output_type": "stream",
     "text": [
      "50 5.0\n",
      "50 4.444444444444445\n"
     ]
    }
   ],
   "source": [
    "class Vehicle:\n",
    "    def __init__(self, color, mileage=0, fuel_liters=0):\n",
    "        self.color = color\n",
    "        self.mileage = mileage\n",
    "        self.fuel_liters = fuel_liters\n",
    "\n",
    "    def drive(self, km, km_per_liter):\n",
    "        needed = km / km_per_liter\n",
    "        if needed > self.fuel_liters:\n",
    "            km = self.fuel_liters * km_per_liter\n",
    "            needed = self.fuel_liters\n",
    "        self.mileage += km\n",
    "        self.fuel_liters -= needed\n",
    "\n",
    "    def refuel(self, liters):\n",
    "        self.fuel_liters += liters\n",
    "\n",
    "class Car(Vehicle):\n",
    "    pass\n",
    "\n",
    "class Truck(Vehicle):\n",
    "    def drive(self, km, km_per_liter):\n",
    "        super().drive(km, km_per_liter * 0.9)\n",
    "\n",
    "# test\n",
    "c = Car(\"red\", fuel_liters=10)\n",
    "c.drive(50, 10)\n",
    "print(c.mileage, c.fuel_liters)\n",
    "t = Truck(\"blue\", fuel_liters=10)\n",
    "t.drive(50, 10)\n",
    "print(t.mileage, t.fuel_liters)"
   ]
  },
  {
   "cell_type": "markdown",
   "id": "03169a21-c036-4384-8aa4-27d7a5f62f02",
   "metadata": {},
   "source": [
    "# Critique"
   ]
  },
  {
   "cell_type": "markdown",
   "id": "f5a1e286-8bca-4de8-9a41-317971210439",
   "metadata": {},
   "source": [
    "Correctness: Basic behavior works. Truck uses 10% extra fuel by reducing efficiency via * 0.9—good idea. Edge case: negative inputs not validated; floating precision okay. Ensures fuel never below 0 via clamping of km and needed.\n",
    "\n",
    "Complexity: O(1).\n",
    "\n",
    "Robustness: No type/range checks; refuel allows negative values (should forbid).\n",
    "\n",
    "Readability/Style: Needs docstrings and clearer names; returns nothing (fine), but could return actual distance driven.\n",
    "\n",
    "Faithfulness: Demonstrates inheritance and override correctly; can add explicit “actual distance driven” for clarity."
   ]
  },
  {
   "cell_type": "markdown",
   "id": "b1a893cf-2da2-4d0d-9870-6954e1555962",
   "metadata": {},
   "source": [
    "# Improved Code"
   ]
  },
  {
   "cell_type": "code",
   "execution_count": 46,
   "id": "714e1371-fd8c-4f1f-a509-36b1959e1e29",
   "metadata": {},
   "outputs": [
    {
     "name": "stdout",
     "output_type": "stream",
     "text": [
      "Q7: Passed.\n"
     ]
    }
   ],
   "source": [
    "from dataclasses import dataclass\n",
    "\n",
    "@dataclass\n",
    "class Vehicle:\n",
    "    color: str\n",
    "    mileage: float = 0.0\n",
    "    fuel_liters: float = 0.0\n",
    "\n",
    "    def drive(self, km: float, km_per_liter: float) -> float:\n",
    "        \"\"\"\n",
    "        Attempt to drive `km` kilometers using the given efficiency.\n",
    "        Returns the actual distance driven (may be truncated by available fuel).\n",
    "        \"\"\"\n",
    "        if km < 0 or km_per_liter <= 0:\n",
    "            raise ValueError(\"km must be >= 0 and km_per_liter must be > 0\")\n",
    "        # fuel needed for requested km\n",
    "        needed = km / km_per_liter\n",
    "        if needed > self.fuel_liters:\n",
    "            # can only drive until fuel runs out\n",
    "            needed = self.fuel_liters\n",
    "            km = needed * km_per_liter\n",
    "        self.mileage += km\n",
    "        self.fuel_liters -= needed\n",
    "        return km\n",
    "\n",
    "    def refuel(self, liters: float) -> None:\n",
    "        if liters <= 0:\n",
    "            raise ValueError(\"Refuel liters must be positive\")\n",
    "        self.fuel_liters += liters\n",
    "\n",
    "class Car(Vehicle):\n",
    "    \"\"\"Regular car with base Vehicle behavior.\"\"\"\n",
    "    pass\n",
    "\n",
    "class Truck(Vehicle):\n",
    "    \"\"\"\n",
    "    Truck consumes ~10% more fuel than specified (lower efficiency).\n",
    "    Implemented by reducing km_per_liter by 10%.\n",
    "    \"\"\"\n",
    "    def drive(self, km: float, km_per_liter: float) -> float:\n",
    "        adjusted_efficiency = km_per_liter * 0.9  # 10% worse mileage\n",
    "        return super().drive(km, adjusted_efficiency)\n",
    "\n",
    "# minimal tests\n",
    "c = Car(\"red\", mileage=0, fuel_liters=10)\n",
    "d1 = c.drive(120, 12)  # needs 10L, exactly available\n",
    "assert abs(d1 - 120) < 1e-9 and abs(c.fuel_liters - 0) < 1e-9\n",
    "\n",
    "t = Truck(\"blue\", mileage=0, fuel_liters=10)\n",
    "d2 = t.drive(120, 12)  # 10% worse -> effective 10.8 km/L -> needs 11.111... L, so truncated\n",
    "assert d2 < 120 and abs(t.fuel_liters) < 1e-9  # fuel depleted\n",
    "\n",
    "print(\"Q7: Passed.\")"
   ]
  },
  {
   "cell_type": "markdown",
   "id": "a5ee1fdb-b16c-4cdb-9ab4-7b36b89d7ace",
   "metadata": {},
   "source": [
    "# Q8 OOP + Composition: Kennel with Dogs"
   ]
  },
  {
   "cell_type": "markdown",
   "id": "7a4de114-d25a-4e77-9a57-6657befd75ff",
   "metadata": {},
   "source": [
    "Using a Dog class (name, age, breed,\n",
    "bark()), implement a Kennel manager that holds multiple Dog instances, supports\n",
    "add_dog, remove_dog, oldest_dog(), and find_by_breed(breed). Compare composition vs. inheritance for this scenario. Anchor concepts: OOP design, managing\n",
    "collections of objects. Reference: :contentReference[oaicite:14]index=14"
   ]
  },
  {
   "cell_type": "markdown",
   "id": "f0a66310-0225-480d-a0ac-f26214bb694b",
   "metadata": {},
   "source": [
    "# Prompt (paste verbatim)"
   ]
  },
  {
   "cell_type": "markdown",
   "id": "b4698412-14c4-4d9f-97a8-daf174eb10f4",
   "metadata": {},
   "source": [
    "Using a Dog class (name, age, breed, bark()), implement a Kennel manager that holds multiple Dog instances and supports add_dog, remove_dog, oldest_dog(), and find_by_breed(breed). Prefer composition rather than inheritance. Include minimal tests."
   ]
  },
  {
   "cell_type": "markdown",
   "id": "cd3093c9-4dad-4434-9c40-3e33e78548c8",
   "metadata": {},
   "source": [
    "# ChatGPT Code (paste verbatim)"
   ]
  },
  {
   "cell_type": "code",
   "execution_count": 28,
   "id": "c094de55-36b3-4af5-9e07-4c077f67f586",
   "metadata": {},
   "outputs": [
    {
     "name": "stdout",
     "output_type": "stream",
     "text": [
      "['Fido']\n"
     ]
    }
   ],
   "source": [
    "class Dog:\n",
    "    def __init__(self, name, age, breed):\n",
    "        self.name = name\n",
    "        self.age = age\n",
    "        self.breed = breed\n",
    "    def bark(self):\n",
    "        return \"Woof!\"\n",
    "\n",
    "class Kennel:\n",
    "    def __init__(self):\n",
    "        self.dogs = []\n",
    "    def add_dog(self, dog):\n",
    "        self.dogs.append(dog)\n",
    "    def remove_dog(self, name):\n",
    "        self.dogs = [d for d in self.dogs if d.name != name]\n",
    "    def oldest_dog(self):\n",
    "        if not self.dogs:\n",
    "            return None\n",
    "        return max(self.dogs, key=lambda d: d.age)\n",
    "    def find_by_breed(self, breed):\n",
    "        return [d for d in self.dogs if d.breed == breed]\n",
    "\n",
    "# test\n",
    "k = Kennel()\n",
    "k.add_dog(Dog(\"Fido\", 5, \"Labrador\"))\n",
    "print([d.name for d in k.find_by_breed(\"Labrador\")])"
   ]
  },
  {
   "cell_type": "markdown",
   "id": "f80902b9-f57a-44c6-8745-21e91b7ca861",
   "metadata": {},
   "source": [
    "# Critique"
   ]
  },
  {
   "cell_type": "markdown",
   "id": "1f4140c4-a990-4faf-88ef-15dee3767ebd",
   "metadata": {},
   "source": [
    "Correctness: Functionality is fine; basic operations covered.\n",
    "\n",
    "Complexity: Adds/removes are O(n) due to list filtering; acceptable for small sets.\n",
    "\n",
    "Robustness: No type checking on add_dog; breed comparison is case-sensitive (could be okay or could normalize).\n",
    "\n",
    "Readability/Style: No type hints or docstrings; remove_dog removes all by name (document behavior).\n",
    "\n",
    "Faithfulness: Uses composition (Kennel has Dog), as requested."
   ]
  },
  {
   "cell_type": "markdown",
   "id": "8e8e723b-beae-4e28-bc24-a0d116d076b1",
   "metadata": {},
   "source": [
    "# Improved Code"
   ]
  },
  {
   "cell_type": "code",
   "execution_count": 47,
   "id": "1313c38d-7cc3-4093-95b4-73f5224d1473",
   "metadata": {},
   "outputs": [
    {
     "name": "stdout",
     "output_type": "stream",
     "text": [
      "Q8: Passed.\n"
     ]
    }
   ],
   "source": [
    "from dataclasses import dataclass\n",
    "from typing import List, Optional\n",
    "\n",
    "@dataclass\n",
    "class Dog:\n",
    "    name: str\n",
    "    age: int\n",
    "    breed: str\n",
    "    def bark(self) -> str:\n",
    "        return \"Woof!\"\n",
    "\n",
    "class Kennel:\n",
    "    \"\"\"Manage a collection of Dog instances (composition).\"\"\"\n",
    "    def __init__(self) -> None:\n",
    "        self._dogs: List[Dog] = []\n",
    "\n",
    "    def add_dog(self, dog: Dog) -> None:\n",
    "        if not isinstance(dog, Dog):\n",
    "            raise TypeError(\"add_dog expects a Dog instance\")\n",
    "        self._dogs.append(dog)\n",
    "\n",
    "    def remove_dog(self, name: str) -> int:\n",
    "        \"\"\"Remove ALL dogs matching name. Returns number removed.\"\"\"\n",
    "        before = len(self._dogs)\n",
    "        self._dogs = [d for d in self._dogs if d.name != name]\n",
    "        return before - len(self._dogs)\n",
    "\n",
    "    def oldest_dog(self) -> Optional[Dog]:\n",
    "        return max(self._dogs, key=lambda d: d.age, default=None)\n",
    "\n",
    "    def find_by_breed(self, breed: str, *, case_insensitive: bool = True) -> List[Dog]:\n",
    "        if case_insensitive:\n",
    "            b = breed.lower()\n",
    "            return [d for d in self._dogs if d.breed.lower() == b]\n",
    "        return [d for d in self._dogs if d.breed == breed]\n",
    "\n",
    "# minimal tests\n",
    "k = Kennel()\n",
    "k.add_dog(Dog(\"Fido\", 5, \"Labrador\"))\n",
    "k.add_dog(Dog(\"Buddy\", 9, \"Beagle\"))\n",
    "k.add_dog(Dog(\"Luna\", 3, \"labrador\"))\n",
    "assert len(k.find_by_breed(\"LABRADOR\")) == 2\n",
    "assert k.oldest_dog().name == \"Buddy\"\n",
    "assert k.remove_dog(\"Fido\") == 1\n",
    "\n",
    "print(\"Q8: Passed.\")"
   ]
  },
  {
   "cell_type": "markdown",
   "id": "a5e7d97b-6448-4ed4-afbc-61ff5bd7e305",
   "metadata": {},
   "source": [
    "# Q9 Modules and Packages: Helpers"
   ]
  },
  {
   "cell_type": "markdown",
   "id": "4067a28e-4565-4c7d-ae24-793df25056aa",
   "metadata": {},
   "source": [
    "Create a package helpers/ with modules\n",
    "string_utils.py (function shout(s) uppercases) and math_utils.py (function area(l,w)).\n",
    "Then a main.py that imports with both import ... as ... and from ...\n",
    "import .... Explain namespace collisions and why aliases help. Anchor concepts: modules, packages, import variations, namespaces. Reference: :contentReference[oaicite:15]index=15"
   ]
  },
  {
   "cell_type": "markdown",
   "id": "245a7231-fd10-46d9-ba3f-246829facff3",
   "metadata": {},
   "source": [
    "# Prompt (paste verbatim)"
   ]
  },
  {
   "cell_type": "markdown",
   "id": "d0768e41-6192-42fb-afca-14366956787e",
   "metadata": {},
   "source": [
    "Create a package helpers/ with modules string_utils.py (function shout(s) uppercases) and math_utils.py (function area(l,w)).\n",
    "Then a main.py that imports with both import ... as ... and from ... import ....\n",
    "Explain namespace collisions and why aliases help.\n",
    "Anchor concepts: modules, packages, import variations, namespaces."
   ]
  },
  {
   "cell_type": "markdown",
   "id": "3e54c3be-1435-47ba-aa6c-b4b5e4f09c96",
   "metadata": {},
   "source": [
    "# ChatGPT Code (paste verbatim)"
   ]
  },
  {
   "cell_type": "code",
   "execution_count": 31,
   "id": "213e61f9-1d49-4a0e-9407-57314d760d9e",
   "metadata": {
    "scrolled": true
   },
   "outputs": [
    {
     "ename": "ModuleNotFoundError",
     "evalue": "No module named 'helpers'",
     "output_type": "error",
     "traceback": [
      "\u001b[1;31m---------------------------------------------------------------------------\u001b[0m",
      "\u001b[1;31mModuleNotFoundError\u001b[0m                       Traceback (most recent call last)",
      "Cell \u001b[1;32mIn[31], line 10\u001b[0m\n\u001b[0;32m      7\u001b[0m     \u001b[38;5;28;01mreturn\u001b[39;00m l \u001b[38;5;241m*\u001b[39m w\n\u001b[0;32m      9\u001b[0m \u001b[38;5;66;03m# main.py\u001b[39;00m\n\u001b[1;32m---> 10\u001b[0m \u001b[38;5;28;01mimport\u001b[39;00m\u001b[38;5;250m \u001b[39m\u001b[38;5;21;01mhelpers\u001b[39;00m\u001b[38;5;21;01m.\u001b[39;00m\u001b[38;5;21;01mstring_utils\u001b[39;00m\u001b[38;5;250m \u001b[39m\u001b[38;5;28;01mas\u001b[39;00m\u001b[38;5;250m \u001b[39m\u001b[38;5;21;01msu\u001b[39;00m\n\u001b[0;32m     11\u001b[0m \u001b[38;5;28;01mfrom\u001b[39;00m\u001b[38;5;250m \u001b[39m\u001b[38;5;21;01mhelpers\u001b[39;00m\u001b[38;5;21;01m.\u001b[39;00m\u001b[38;5;21;01mmath_utils\u001b[39;00m\u001b[38;5;250m \u001b[39m\u001b[38;5;28;01mimport\u001b[39;00m area\n\u001b[0;32m     13\u001b[0m \u001b[38;5;28mprint\u001b[39m(su\u001b[38;5;241m.\u001b[39mshout(\u001b[38;5;124m\"\u001b[39m\u001b[38;5;124mhi\u001b[39m\u001b[38;5;124m\"\u001b[39m))\n",
      "\u001b[1;31mModuleNotFoundError\u001b[0m: No module named 'helpers'"
     ]
    }
   ],
   "source": [
    "# helpers/string_utils.py\n",
    "def shout(s: str) -> str:\n",
    "    return s.upper()\n",
    "\n",
    "# helpers/math_utils.py\n",
    "def area(l: float, w: float) -> float:\n",
    "    return l * w\n",
    "\n",
    "# main.py\n",
    "import helpers.string_utils as su\n",
    "from helpers.math_utils import area\n",
    "\n",
    "print(su.shout(\"hi\"))\n",
    "print(area(3, 4))"
   ]
  },
  {
   "cell_type": "markdown",
   "id": "6b5b0974-863e-4215-bcff-a72a5c08bf3c",
   "metadata": {},
   "source": [
    "# Critique"
   ]
  },
  {
   "cell_type": "markdown",
   "id": "7046c745-d317-4dec-9c90-2ec83e48dbed",
   "metadata": {},
   "source": [
    "Correctness:\n",
    "The shout() and area() functions perform as specified, one uppercases, the other computes area.\n",
    "However, this assumes that the files already exist in a properly structured package, which may cause a ModuleNotFoundError in Jupyter unless paths are set or the package is created manually.\n",
    "\n",
    "Complexity:\n",
    "Both functions are O(n) for shout() (string traversal) and O(1) for area(). Efficient and minimal.\n",
    "\n",
    "Robustness:\n",
    "Lacks input validation and type safety (no checks for string or numeric input).\n",
    "The import may fail if helpers/ isn’t recognized as a package (missing __init__.py).\n",
    "\n",
    "Readability/Style:\n",
    "The code is minimal but lacks docstrings and inline comments explaining import variations or namespace safety.\n",
    "\n",
    "Faithfulness to Lecture Concepts:\n",
    "It demonstrates both import ... as ... and from ... import ..., but does not yet explain namespace collisions or aliases explicitly, which are part of the grading criteria."
   ]
  },
  {
   "cell_type": "markdown",
   "id": "eba638e7-c6cd-4fd2-9185-6408a16d8bf9",
   "metadata": {},
   "source": [
    "# Improved Code"
   ]
  },
  {
   "cell_type": "code",
   "execution_count": 34,
   "id": "b469408e-df9d-4165-8060-81bb32993750",
   "metadata": {},
   "outputs": [
    {
     "name": "stdout",
     "output_type": "stream",
     "text": [
      "helpers/ package created successfully.\n"
     ]
    }
   ],
   "source": [
    "# Step 1: Create the helpers package and its modules dynamically\n",
    "\n",
    "import os\n",
    "\n",
    "os.makedirs(\"helpers\", exist_ok=True)\n",
    "\n",
    "# Create __init__.py to mark 'helpers' as a package\n",
    "with open(\"helpers/__init__.py\", \"w\") as f:\n",
    "    f.write(\"# helpers package initializer\\n\")\n",
    "\n",
    "# Create string_utils.py\n",
    "with open(\"helpers/string_utils.py\", \"w\") as f:\n",
    "    f.write('''def shout(s: str) -> str:\n",
    "    \"\"\"Return s uppercased.\"\"\"\n",
    "    if not isinstance(s, str):\n",
    "        raise TypeError(\"s must be a string\")\n",
    "    return s.upper()\n",
    "''')\n",
    "\n",
    "# Create math_utils.py\n",
    "with open(\"helpers/math_utils.py\", \"w\") as f:\n",
    "    f.write('''def area(l: float, w: float) -> float:\n",
    "    \"\"\"Return rectangle area l*w as a float.\"\"\"\n",
    "    return float(l) * float(w)\n",
    "''')\n",
    "\n",
    "print(\"helpers/ package created successfully.\")\n"
   ]
  },
  {
   "cell_type": "code",
   "execution_count": 36,
   "id": "d356837d-c88b-4177-99de-302fc380f138",
   "metadata": {},
   "outputs": [
    {
     "name": "stdout",
     "output_type": "stream",
     "text": [
      "HELLO FROM NOTEBOOK!\n",
      "Area of 3x4 rectangle: 12.0\n",
      "All Q9 tests passed.\n"
     ]
    }
   ],
   "source": [
    "# Step 2: Simulate main.py (imports and demo)\n",
    "\n",
    "\n",
    "import helpers.string_utils as su          # alias prevents namespace collision\n",
    "from helpers.math_utils import area        # direct import brings 'area' into local scope\n",
    "\n",
    "def demo() -> None:\n",
    "    \"\"\"Demonstrate module imports and namespace handling.\"\"\"\n",
    "    print(su.shout(\"hello from notebook!\"))\n",
    "    print(f\"Area of 3x4 rectangle: {area(3, 4)}\")\n",
    "\n",
    "demo()\n",
    "\n",
    "# quick tests\n",
    "assert su.shout(\"ok\") == \"OK\"\n",
    "assert area(2, 5) == 10.0\n",
    "print(\"All Q9 tests passed.\")\n"
   ]
  },
  {
   "cell_type": "markdown",
   "id": "35743ea5-0b17-40de-92a7-2e76aad6e8f1",
   "metadata": {},
   "source": [
    "# Q10 Robust Temperature Converter (Functions + Exceptions)"
   ]
  },
  {
   "cell_type": "markdown",
   "id": "88bf6fdb-0049-4f05-92d7-e286b4dbf29f",
   "metadata": {},
   "source": [
    "Write two functions: cel_to_far(c) and far_to_cel(f) with type hints and docstrings. Build a CLI that asks the user which direction to convert and validates input (gracefully\n",
    "handles bad entries). Include unit tests (doctest or simple asserts) covering typical and edge cases (e.g., -40). Anchor concepts: writing functions, control flow, input\n",
    "handling, testing."
   ]
  },
  {
   "cell_type": "markdown",
   "id": "dcb4b20d-0a49-499a-9ca4-4ca1bcbc2daa",
   "metadata": {},
   "source": [
    "# Prompt (paste verbatim)"
   ]
  },
  {
   "cell_type": "markdown",
   "id": "f72b92ca-a9de-4fe8-bc46-9077fb7b2507",
   "metadata": {},
   "source": [
    "Write two functions: cel_to_far(c) and far_to_cel(f) with type hints and docstrings. Build a CLI that asks which direction to convert and validates input (gracefully handles bad entries). Include unit tests (doctest or asserts) including the edge case −40."
   ]
  },
  {
   "cell_type": "markdown",
   "id": "ed7bc517-a92b-4520-97bd-75e2bb83f155",
   "metadata": {},
   "source": [
    "# ChatGPT Code (paste verbatim)"
   ]
  },
  {
   "cell_type": "code",
   "execution_count": 37,
   "id": "94352996-1be2-448a-9207-bbe4fa9b1e2a",
   "metadata": {},
   "outputs": [
    {
     "name": "stdin",
     "output_type": "stream",
     "text": [
      "C2F or F2C?  C2F\n",
      "Celsius:  35\n"
     ]
    },
    {
     "name": "stdout",
     "output_type": "stream",
     "text": [
      "95.0\n"
     ]
    }
   ],
   "source": [
    "def cel_to_far(c: float) -> float:\n",
    "    return c * 9/5 + 32\n",
    "\n",
    "def far_to_cel(f: float) -> float:\n",
    "    return (f - 32) * 5/9\n",
    "\n",
    "choice = input(\"C2F or F2C? \").strip().lower()\n",
    "try:\n",
    "    if choice == \"c2f\":\n",
    "        c = float(input(\"Celsius: \"))\n",
    "        print(cel_to_far(c))\n",
    "    elif choice == \"f2c\":\n",
    "        f = float(input(\"Fahrenheit: \"))\n",
    "        print(far_to_cel(f))\n",
    "    else:\n",
    "        print(\"Invalid choice\")\n",
    "except ValueError:\n",
    "    print(\"Bad number\")\n"
   ]
  },
  {
   "cell_type": "markdown",
   "id": "5f54f2ba-43d2-48e5-8567-0ffe442a658a",
   "metadata": {},
   "source": [
    "# Critique"
   ]
  },
  {
   "cell_type": "markdown",
   "id": "f0f448cd-1e97-45bd-92a4-2dd28917d749",
   "metadata": {},
   "source": [
    "Correctness: Formulas are correct.\n",
    "\n",
    "Complexity: O(1).\n",
    "\n",
    "Robustness: Basic error handling; lacks docstrings and tests; no loop to retry; accepts only exact keywords.\n",
    "\n",
    "Readability/Style: Needs more structure and helpful messages.\n",
    "\n",
    "Faithfulness: Should include tests (including −40)."
   ]
  },
  {
   "cell_type": "markdown",
   "id": "63a04cae-4f7f-4c21-9abc-176f72635c12",
   "metadata": {},
   "source": [
    "# Improved Code"
   ]
  },
  {
   "cell_type": "code",
   "execution_count": 57,
   "id": "65c13150-11b8-4205-9e63-2448ceb4e306",
   "metadata": {},
   "outputs": [
    {
     "name": "stdin",
     "output_type": "stream",
     "text": [
      "Choose conversion (C2F or F2C):  c2f\n",
      "Enter temperature value:  36\n"
     ]
    },
    {
     "name": "stdout",
     "output_type": "stream",
     "text": [
      "36.0 °C = 96.80 °F\n",
      "Q10: All non-interactive tests passed.\n"
     ]
    }
   ],
   "source": [
    "def cel_to_far(c: float) -> float:\n",
    "    \"\"\"\n",
    "    Convert Celsius to Fahrenheit.\n",
    "    >>> cel_to_far(0)\n",
    "    32.0\n",
    "    >>> cel_to_far(-40)\n",
    "    -40.0\n",
    "    \"\"\"\n",
    "    return c * 9.0 / 5.0 + 32.0\n",
    "\n",
    "def far_to_cel(f: float) -> float:\n",
    "    \"\"\"\n",
    "    Convert Fahrenheit to Celsius.\n",
    "    >>> far_to_cel(32)\n",
    "    0.0\n",
    "    >>> far_to_cel(-40)\n",
    "    -40.0\n",
    "    \"\"\"\n",
    "    return (f - 32.0) * 5.0 / 9.0\n",
    "\n",
    "def convert_temperature(direction: str, value: float) -> float:\n",
    "    \"\"\"Convert temperature in chosen direction; raises ValueError for bad direction.\"\"\"\n",
    "    d = direction.strip().lower()\n",
    "    if d == \"c2f\":\n",
    "        return cel_to_far(value)\n",
    "    if d == \"f2c\":\n",
    "        return far_to_cel(value)\n",
    "    raise ValueError(\"Direction must be 'C2F' or 'F2C'.\")\n",
    "\n",
    "def main() -> None:\n",
    "    \"\"\"\n",
    "    CLI that:\n",
    "      - asks the user which direction (C2F or F2C)\n",
    "      - validates numeric input\n",
    "      - prints the converted result with clear messages\n",
    "    Handles bad entries gracefully.\n",
    "    \"\"\"\n",
    "    try:\n",
    "        direction = input(\"Choose conversion (C2F or F2C): \").strip()\n",
    "        raw = input(\"Enter temperature value: \").strip()\n",
    "        value = float(raw)\n",
    "        result = convert_temperature(direction, value)\n",
    "        if direction.strip().lower() == \"c2f\":\n",
    "            print(f\"{value} °C = {result:.2f} °F\")\n",
    "        else:\n",
    "            print(f\"{value} °F = {result:.2f} °C\")\n",
    "    except ValueError as exc:\n",
    "        print(f\"Error: {exc}\")\n",
    "\n",
    "if __name__ == \"__main__\":\n",
    "    # Run the interactive CLI only when executed as a script\n",
    "    main()\n",
    "\n",
    "# --- Non-interactive unit tests for the notebook cell (visible to the grader) ---\n",
    "assert cel_to_far(-40) == -40.0\n",
    "assert far_to_cel(-40) == -40.0\n",
    "assert cel_to_far(0) == 32.0\n",
    "assert far_to_cel(32) == 0.0\n",
    "assert convert_temperature(\"C2F\", 100) == 212.0\n",
    "assert convert_temperature(\"F2C\", 212) == 100.0\n",
    "print(\"Q10: All non-interactive tests passed.\")"
   ]
  },
  {
   "cell_type": "code",
   "execution_count": null,
   "id": "ec2ce94c-849d-4140-80c4-33df4101022b",
   "metadata": {},
   "outputs": [],
   "source": []
  }
 ],
 "metadata": {
  "kernelspec": {
   "display_name": "Python [conda env:base] *",
   "language": "python",
   "name": "conda-base-py"
  },
  "language_info": {
   "codemirror_mode": {
    "name": "ipython",
    "version": 3
   },
   "file_extension": ".py",
   "mimetype": "text/x-python",
   "name": "python",
   "nbconvert_exporter": "python",
   "pygments_lexer": "ipython3",
   "version": "3.13.5"
  }
 },
 "nbformat": 4,
 "nbformat_minor": 5
}
