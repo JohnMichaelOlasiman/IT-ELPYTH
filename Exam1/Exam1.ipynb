{
 "cells": [
  {
   "cell_type": "markdown",
   "id": "5edc5abe-1f8d-454e-b7d8-60298bba2a01",
   "metadata": {},
   "source": [
    "# 1st Long Exam (09/10/2025)"
   ]
  },
  {
   "cell_type": "markdown",
   "id": "f0aabcc3-192c-48e0-8555-fc887310b52c",
   "metadata": {},
   "source": [
    "# John Michael Olasiman ID: 21418546"
   ]
  },
  {
   "cell_type": "code",
   "execution_count": 3,
   "id": "0de74512-8233-45a5-a72a-a3f8c8593747",
   "metadata": {},
   "outputs": [
    {
     "name": "stdin",
     "output_type": "stream",
     "text": [
      "Enter your name:  john\n"
     ]
    },
    {
     "name": "stdout",
     "output_type": "stream",
     "text": [
      "hello john\n"
     ]
    }
   ],
   "source": [
    "# 1\n",
    "user_input = input(\"Enter your name: \")\n",
    "print(f\"hello {user_input}\")"
   ]
  },
  {
   "cell_type": "code",
   "execution_count": 27,
   "id": "b430c822-e493-46a5-8520-1044e9c1dca4",
   "metadata": {},
   "outputs": [
    {
     "name": "stdin",
     "output_type": "stream",
     "text": [
      "Enter a num:  5\n"
     ]
    },
    {
     "name": "stdout",
     "output_type": "stream",
     "text": [
      "The sum is 15\n"
     ]
    }
   ],
   "source": [
    "# 2\n",
    "def int_sum(n): return n * (n+1) / 2\n",
    "num = int(input(\"Enter a num: \")); sum = 0\n",
    "for i in range(1, abs(num)+1):\n",
    "    sum += i; \n",
    "print(\"The sum is\", sum)"
   ]
  },
  {
   "cell_type": "code",
   "execution_count": 14,
   "id": "17d923ba-7bbd-4734-8c5b-cc02b769c691",
   "metadata": {},
   "outputs": [
    {
     "ename": "SyntaxError",
     "evalue": "invalid syntax (2492418618.py, line 3)",
     "output_type": "error",
     "traceback": [
      "\u001b[1;36m  Cell \u001b[1;32mIn[14], line 3\u001b[1;36m\u001b[0m\n\u001b[1;33m    if user_input == \"a\", \"e\", \"i\", \"o\", \"u\", \"A\", \"E\", \"I\", \"O\", \"U\":\u001b[0m\n\u001b[1;37m                        ^\u001b[0m\n\u001b[1;31mSyntaxError\u001b[0m\u001b[1;31m:\u001b[0m invalid syntax\n"
     ]
    }
   ],
   "source": [
    "# 3\n",
    "user_input = input(\"Enter a letter: \")\n",
    "if user_input == \"a\", \"e\", \"i\", \"o\", \"u\", \"A\", \"E\", \"I\", \"O\", \"U\":\n",
    "    print(\"You entered a vowel\")\n",
    "if user_input == \"y\":\n",
    "    print(\"Sometimes y is a vowel, and sometimes y is a consonant.\")\n",
    "else:\n",
    "    print(\"You entered a consonant letter\")"
   ]
  },
  {
   "cell_type": "code",
   "execution_count": 30,
   "id": "aba16d3a-7957-488e-b1e2-b4ce579c4b7e",
   "metadata": {},
   "outputs": [],
   "source": [
    "# 4"
   ]
  },
  {
   "cell_type": "code",
   "execution_count": 29,
   "id": "0d43b39e-7bf5-4138-80d4-7fdb7a65a2d5",
   "metadata": {},
   "outputs": [
    {
     "name": "stdin",
     "output_type": "stream",
     "text": [
      "A:  2\n",
      "B:  3\n"
     ]
    },
    {
     "name": "stdout",
     "output_type": "stream",
     "text": [
      "H = 3.605551275463989\n"
     ]
    }
   ],
   "source": [
    "# 5\n",
    "def hypo_len(a, b): return ((a ** 2) + (b ** 2)) ** 0.5\n",
    "a = float(input(\"A: \"))\n",
    "b = float(input(\"B: \"))\n",
    "print(f\"H = {hypo_len(a, b)}\")"
   ]
  }
 ],
 "metadata": {
  "kernelspec": {
   "display_name": "Python 3 (ipykernel)",
   "language": "python",
   "name": "python3"
  },
  "language_info": {
   "codemirror_mode": {
    "name": "ipython",
    "version": 3
   },
   "file_extension": ".py",
   "mimetype": "text/x-python",
   "name": "python",
   "nbconvert_exporter": "python",
   "pygments_lexer": "ipython3",
   "version": "3.13.5"
  }
 },
 "nbformat": 4,
 "nbformat_minor": 5
}
