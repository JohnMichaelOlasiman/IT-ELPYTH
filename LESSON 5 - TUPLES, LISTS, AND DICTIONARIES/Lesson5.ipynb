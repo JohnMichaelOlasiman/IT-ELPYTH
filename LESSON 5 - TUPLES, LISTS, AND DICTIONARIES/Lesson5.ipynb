{
 "cells": [
  {
   "cell_type": "markdown",
   "id": "cfcbbfac-22ed-49ef-9524-483ab4a97dd2",
   "metadata": {},
   "source": [
    "# Review Exercise 1"
   ]
  },
  {
   "cell_type": "code",
   "execution_count": 1,
   "id": "2f4e6992-67c8-4d10-b759-894da734fcb2",
   "metadata": {},
   "outputs": [],
   "source": [
    "# 1. \n",
    "cardinal_numbers = (\"FIRST\", \"SECOND\", \"THIRD\")"
   ]
  },
  {
   "cell_type": "code",
   "execution_count": 3,
   "id": "6ae4c7f7-1f4d-454c-86d1-2d35f84af88d",
   "metadata": {},
   "outputs": [
    {
     "name": "stdout",
     "output_type": "stream",
     "text": [
      "SECOND\n"
     ]
    }
   ],
   "source": [
    "# 2.\n",
    "print(cardinal_numbers[1])"
   ]
  },
  {
   "cell_type": "code",
   "execution_count": 4,
   "id": "52eb9351-35dc-496f-a74f-dd50ac6becbc",
   "metadata": {},
   "outputs": [
    {
     "name": "stdout",
     "output_type": "stream",
     "text": [
      "FIRST\n",
      "SECOND\n",
      "THIRD\n"
     ]
    }
   ],
   "source": [
    "# 3.\n",
    "position1, position2, position3 = cardinal_numbers\n",
    "print(position1)  # FIRST\n",
    "print(position2)  # SECOND\n",
    "print(position3)  # THIRD"
   ]
  },
  {
   "cell_type": "code",
   "execution_count": 9,
   "id": "2fd160a6-7c53-4682-8e19-9d7f598844ff",
   "metadata": {},
   "outputs": [
    {
     "name": "stdout",
     "output_type": "stream",
     "text": [
      "('J', 'o', 'h', 'n')\n"
     ]
    }
   ],
   "source": [
    "# 4\n",
    "my_name = tuple(\"John\")\n",
    "print(my_name)"
   ]
  },
  {
   "cell_type": "code",
   "execution_count": 10,
   "id": "ba1b20c8-035f-4921-ad83-ed96f016e223",
   "metadata": {},
   "outputs": [
    {
     "name": "stdout",
     "output_type": "stream",
     "text": [
      "False\n",
      "False\n"
     ]
    }
   ],
   "source": [
    "# 5.\n",
    "print(\"X\" in my_name) \n",
    "print(\"x\" in my_name)  "
   ]
  },
  {
   "cell_type": "code",
   "execution_count": 11,
   "id": "da0ee5a8-b11a-415f-b09f-de6b33eeefd6",
   "metadata": {},
   "outputs": [
    {
     "name": "stdout",
     "output_type": "stream",
     "text": [
      "('o', 'h', 'n')\n"
     ]
    }
   ],
   "source": [
    "# 6.\n",
    "new_tuple = my_name[1:]\n",
    "print(new_tuple)"
   ]
  },
  {
   "cell_type": "markdown",
   "id": "149121d6-133b-4f82-a1f4-7dfd16768acd",
   "metadata": {},
   "source": [
    "# Review Exercise 2"
   ]
  },
  {
   "cell_type": "code",
   "execution_count": 13,
   "id": "f2eb04d2-a493-463a-8da1-ea8a3fbca520",
   "metadata": {},
   "outputs": [],
   "source": [
    "# 1\n",
    "food = [\"RICE\", \"BEANS\"]"
   ]
  },
  {
   "cell_type": "code",
   "execution_count": 15,
   "id": "872813b1-e188-4082-8fc4-651ac1ece6c5",
   "metadata": {},
   "outputs": [],
   "source": [
    "# 2\n",
    "food.append(\"BROCCOLI\")"
   ]
  },
  {
   "cell_type": "code",
   "execution_count": 16,
   "id": "8ab05d3f-b4a1-4015-ad4e-3aff9d3bffb6",
   "metadata": {},
   "outputs": [],
   "source": [
    "# 3\n",
    "food.extend([\"BREAD\", \"PIZZA\"])"
   ]
  },
  {
   "cell_type": "code",
   "execution_count": 19,
   "id": "75012dc8-af43-4461-bf28-8403a9c7a40c",
   "metadata": {},
   "outputs": [
    {
     "name": "stdout",
     "output_type": "stream",
     "text": [
      "['RICE', 'BEANS']\n"
     ]
    }
   ],
   "source": [
    "# 4\n",
    "print(food[:2])"
   ]
  },
  {
   "cell_type": "code",
   "execution_count": 18,
   "id": "bccc8fe1-11bf-4358-8450-3a9a25ca3a34",
   "metadata": {},
   "outputs": [
    {
     "name": "stdout",
     "output_type": "stream",
     "text": [
      "PIZZA\n"
     ]
    }
   ],
   "source": [
    "# 5\n",
    "print(food[-1])"
   ]
  },
  {
   "cell_type": "code",
   "execution_count": 21,
   "id": "de2a0d4e-6e62-45f7-af68-22cf5dfbefaa",
   "metadata": {},
   "outputs": [
    {
     "name": "stdout",
     "output_type": "stream",
     "text": [
      "['EGGS', 'FRUIT', 'ORANGE JUICE']\n"
     ]
    }
   ],
   "source": [
    "# 6\n",
    "breakfast = \"EGGS, FRUIT, ORANGE JUICE\".split(\", \")\n",
    "print(breakfast)"
   ]
  },
  {
   "cell_type": "code",
   "execution_count": 23,
   "id": "72ae8643-0da8-498a-80be-3c8f7015f98b",
   "metadata": {},
   "outputs": [
    {
     "name": "stdout",
     "output_type": "stream",
     "text": [
      "3\n"
     ]
    }
   ],
   "source": [
    "# 7\n",
    "print(len(breakfast))"
   ]
  },
  {
   "cell_type": "code",
   "execution_count": 24,
   "id": "7297c477-fd22-4ce3-a156-46d3994d9212",
   "metadata": {},
   "outputs": [
    {
     "name": "stdout",
     "output_type": "stream",
     "text": [
      "[4, 5, 12]\n"
     ]
    }
   ],
   "source": [
    "# 8\n",
    "lengths = [len(item) for item in breakfast]\n",
    "print(lengths)"
   ]
  },
  {
   "cell_type": "markdown",
   "id": "a8a12092-8f02-438c-934f-611247e54199",
   "metadata": {},
   "source": [
    "# Review Exercise 3"
   ]
  },
  {
   "cell_type": "code",
   "execution_count": 25,
   "id": "17628023-cb2e-4b02-8512-d2f54d42d050",
   "metadata": {},
   "outputs": [],
   "source": [
    "# 1\n",
    "data = ((1, 2), (3, 4))"
   ]
  },
  {
   "cell_type": "code",
   "execution_count": 26,
   "id": "d95aa912-fd5c-462b-a53d-cd2105ce07bb",
   "metadata": {},
   "outputs": [
    {
     "name": "stdout",
     "output_type": "stream",
     "text": [
      "Row 1 sum: 3\n",
      "Row 2 sum: 7\n"
     ]
    }
   ],
   "source": [
    "# 2\n",
    "row_num = 1\n",
    "for row in data:\n",
    "    print(f\"Row {row_num} sum: {sum(row)}\")\n",
    "    row_num += 1"
   ]
  },
  {
   "cell_type": "code",
   "execution_count": 27,
   "id": "259311aa-c703-4d55-bd6a-5c928763822a",
   "metadata": {},
   "outputs": [
    {
     "name": "stdout",
     "output_type": "stream",
     "text": [
      "[5, 2, 9, 1]\n"
     ]
    }
   ],
   "source": [
    "# 4\n",
    "numbers = [5, 2, 9, 1]\n",
    "numbers_copy = numbers[:]\n",
    "print(numbers_copy)"
   ]
  },
  {
   "cell_type": "code",
   "execution_count": 28,
   "id": "e9eca366-2538-4317-8d72-44e554b5f84c",
   "metadata": {},
   "outputs": [
    {
     "name": "stdout",
     "output_type": "stream",
     "text": [
      "[1, 2, 5, 9]\n"
     ]
    }
   ],
   "source": [
    "# 5\n",
    "numbers.sort()\n",
    "print(numbers)"
   ]
  },
  {
   "cell_type": "markdown",
   "id": "8c293b67-2c29-42bc-9956-fc32394e9a7d",
   "metadata": {},
   "source": [
    "# CHALLENGE: LIST OF LISTS "
   ]
  },
  {
   "cell_type": "code",
   "execution_count": 29,
   "id": "63e8012f-569c-4c40-b7d9-1212c2d7cd34",
   "metadata": {},
   "outputs": [
    {
     "name": "stdout",
     "output_type": "stream",
     "text": [
      "Universities:\n",
      "['California Institute of Technology', 2175, 37704]\n",
      "['Harvard', 19627, 39849]\n",
      "['Massachusetts Institute of Technology', 10566, 40732]\n",
      "['Princeton', 7802, 37000]\n",
      "['Rice', 5879, 35551]\n",
      "['Stanford', 19535, 40569]\n",
      "['Yale', 11701, 40500]\n",
      "\n",
      "---\n",
      "\n",
      "University Names:\n",
      "California Institute of Technology\n",
      "Harvard\n",
      "Massachusetts Institute of Technology\n",
      "Princeton\n",
      "Rice\n",
      "Stanford\n",
      "Yale\n",
      "\n",
      "---\n",
      "\n",
      "Average enrollment: 11040.714285714286\n",
      "Average tuition: 38843.57142857143\n",
      "\n",
      "---\n",
      "\n",
      "Highest tuition: Massachusetts Institute of Technology - 40732\n",
      "Lowest enrollment: California Institute of Technology - 2175\n"
     ]
    }
   ],
   "source": [
    "# Challenge: List of Lists\n",
    "\n",
    "universities = [\n",
    "    ['California Institute of Technology', 2175, 37704],\n",
    "    ['Harvard', 19627, 39849],\n",
    "    ['Massachusetts Institute of Technology', 10566, 40732],\n",
    "    ['Princeton', 7802, 37000],\n",
    "    ['Rice', 5879, 35551],\n",
    "    ['Stanford', 19535, 40569],\n",
    "    ['Yale', 11701, 40500]\n",
    "]\n",
    "\n",
    "# 1. Print all universities\n",
    "print(\"Universities:\")\n",
    "for uni in universities:\n",
    "    print(uni)\n",
    "\n",
    "print(\"\\n---\\n\")\n",
    "\n",
    "# 2. Print each university name only\n",
    "print(\"University Names:\")\n",
    "for uni in universities:\n",
    "    print(uni[0])\n",
    "\n",
    "print(\"\\n---\\n\")\n",
    "\n",
    "# 3. Calculate average enrollment\n",
    "total_students = sum(uni[1] for uni in universities)\n",
    "average_enrollment = total_students / len(universities)\n",
    "print(\"Average enrollment:\", average_enrollment)\n",
    "\n",
    "# 4. Calculate average tuition\n",
    "total_tuition = sum(uni[2] for uni in universities)\n",
    "average_tuition = total_tuition / len(universities)\n",
    "print(\"Average tuition:\", average_tuition)\n",
    "\n",
    "print(\"\\n---\\n\")\n",
    "\n",
    "# 5. Find the university with the highest tuition\n",
    "highest_tuition = max(universities, key=lambda x: x[2])\n",
    "print(\"Highest tuition:\", highest_tuition[0], \"-\", highest_tuition[2])\n",
    "\n",
    "# 6. Find the university with the lowest enrollment\n",
    "lowest_enrollment = min(universities, key=lambda x: x[1])\n",
    "print(\"Lowest enrollment:\", lowest_enrollment[0], \"-\", lowest_enrollment[1])\n"
   ]
  },
  {
   "cell_type": "markdown",
   "id": "4b600498-be48-4587-a627-daaa86e8f3a9",
   "metadata": {},
   "source": [
    "# CHALLENGE: WAX POETIC"
   ]
  },
  {
   "cell_type": "code",
   "execution_count": 32,
   "id": "215f0cfe-d348-434c-89b7-a5dfa2fca6a4",
   "metadata": {},
   "outputs": [
    {
     "name": "stdout",
     "output_type": "stream",
     "text": [
      "The FURRY CHEF\n",
      "CURDLES IN the MANGO\n",
      "TANTALIZINGLY.\n"
     ]
    }
   ],
   "source": [
    "# Challenge: Wax Poetic\n",
    "\n",
    "nouns = [\"FOSSIL\", \"HORSE\", \"AARDVARK\", \"JUDGE\", \"CHEF\",\n",
    "         \"MANGO\", \"EXTROVERT\", \"GORILLA\"]\n",
    "\n",
    "verbs = [\"KICKS\", \"JINGLES\", \"BOUNCES\", \"SLURPS\", \"MEOWS\", \n",
    "         \"EXPLODES\", \"CURDLES\"]\n",
    "\n",
    "adjectives = [\"FURRY\", \"BALDING\", \"INCREDULOUS\", \"FRAGRANT\", \n",
    "              \"EXUBERANT\", \"GLISTENING\"]\n",
    "\n",
    "prepositions = [\"AGAINST\", \"AFTER\", \"INTO\", \"BENEATH\", \"UPON\", \n",
    "                \"FOR\", \"IN\", \"LIKE\", \"OVER\", \"WITHIN\"]\n",
    "\n",
    "adverbs = [\"CURIOUSLY\", \"FURIOUSLY\", \"SENSUOUSLY\", \n",
    "           \"EXTRAVAGANTLY\", \"TANTALIZINGLY\"]\n",
    "\n",
    "import random\n",
    "\n",
    "# Pick random words from each list\n",
    "noun1 = random.choice(nouns)\n",
    "noun2 = random.choice(nouns)\n",
    "verb = random.choice(verbs)\n",
    "adjective = random.choice(adjectives)\n",
    "preposition = random.choice(prepositions)\n",
    "adverb = random.choice(adverbs)\n",
    "\n",
    "# Create a small poem\n",
    "print(f\"The {adjective} {noun1}\")\n",
    "print(f\"{verb} {preposition} the {noun2}\")\n",
    "print(f\"{adverb}.\")\n"
   ]
  },
  {
   "cell_type": "markdown",
   "id": "3b93cc30-e497-4aa0-b064-5f26247dd565",
   "metadata": {},
   "source": [
    "# REVIEW EXERCISE 4"
   ]
  },
  {
   "cell_type": "code",
   "execution_count": 33,
   "id": "21b35d1c-e3b3-4a7d-9d5e-75c4e46e0bd6",
   "metadata": {},
   "outputs": [],
   "source": [
    "# 1\n",
    "captains = {}"
   ]
  },
  {
   "cell_type": "code",
   "execution_count": 34,
   "id": "3bdb0266-b9fb-4142-b8ef-db53f647acd2",
   "metadata": {},
   "outputs": [],
   "source": [
    "# 2\n",
    "captains['Enterprise'] = 'Picard'\n",
    "captains['Voyager'] = 'Janeway'\n",
    "captains['Defiant'] = 'Sisko'"
   ]
  },
  {
   "cell_type": "code",
   "execution_count": 36,
   "id": "4bcaa845-be6c-4c5d-8db8-1edbd905df2c",
   "metadata": {},
   "outputs": [],
   "source": [
    "# 3\n",
    "if \"Enterprise\" not in captains:\n",
    "    captains[\"Enterprise\"] = \"UNKNOWN\"\n",
    "\n",
    "if \"Discovery\" not in captains:\n",
    "    captains[\"Discovery\"] = \"UNKNOWN\""
   ]
  },
  {
   "cell_type": "code",
   "execution_count": 37,
   "id": "b8c25ae7-f082-418c-8cc3-0d328a9fa560",
   "metadata": {},
   "outputs": [
    {
     "name": "stdout",
     "output_type": "stream",
     "text": [
      "The Enterprise is captained by Picard.\n",
      "The Voyager is captained by Janeway.\n",
      "The Defiant is captained by Sisko.\n",
      "The Discovery is captained by UNKNOWN.\n"
     ]
    }
   ],
   "source": [
    "# 4\n",
    "for ship, captain in captains.items():\n",
    "    print(f\"The {ship} is captained by {captain}.\")"
   ]
  },
  {
   "cell_type": "markdown",
   "id": "4ac05904-1511-4805-99f5-f8802e26afd8",
   "metadata": {},
   "source": [
    "# REVIEW EXERCISE 5"
   ]
  },
  {
   "cell_type": "code",
   "execution_count": 38,
   "id": "3a7c1798-e066-4cbc-a154-fc9bb2b049ae",
   "metadata": {},
   "outputs": [],
   "source": [
    "# 5\n",
    "del captains[\"Discovery\"]"
   ]
  },
  {
   "cell_type": "code",
   "execution_count": 39,
   "id": "dfddfbe8-46e7-4031-b88b-615d424483d9",
   "metadata": {},
   "outputs": [],
   "source": [
    "# 6\n",
    "captains2 = dict(\n",
    "    Enterprise=\"Picard\",\n",
    "    Voyager=\"Janeway\",\n",
    "    Defiant=\"Sisko\",\n",
    "    Discovery=\"UNKNOWN\"\n",
    ")"
   ]
  },
  {
   "cell_type": "markdown",
   "id": "ce6db3b0-c5f5-4c69-963b-13905dc613ae",
   "metadata": {},
   "source": [
    "# CHALLENGE: CAPITAL CITY LOOP"
   ]
  },
  {
   "cell_type": "code",
   "execution_count": 42,
   "id": "af0f00fc-d0d5-4734-b241-9cb7bb37eab7",
   "metadata": {},
   "outputs": [
    {
     "name": "stdout",
     "output_type": "stream",
     "text": [
      "Welcome to the Capital City Game!\n",
      "Type 'exit' anytime to quit.\n",
      "\n"
     ]
    },
    {
     "name": "stdin",
     "output_type": "stream",
     "text": [
      "Enter a state:  exit\n"
     ]
    },
    {
     "name": "stdout",
     "output_type": "stream",
     "text": [
      "Goodbye!\n"
     ]
    }
   ],
   "source": [
    "capitals_dict = {\n",
    "    'Alabama': 'Montgomery',\n",
    "    'Alaska': 'Juneau',\n",
    "    'Arizona': 'Phoenix',\n",
    "    'Arkansas': 'Little Rock',\n",
    "    'California': 'Sacramento',\n",
    "    'Colorado': 'Denver',\n",
    "    'Connecticut': 'Hartford',\n",
    "    'Delaware': 'Dover',\n",
    "    'Florida': 'Tallahassee',\n",
    "    'Georgia': 'Atlanta'\n",
    "}\n",
    "\n",
    "print(\"Welcome to the Capital City Game!\")\n",
    "print(\"Type 'exit' anytime to quit.\\n\")\n",
    "\n",
    "while True:\n",
    "    state = input(\"Enter a state: \")\n",
    "\n",
    "    # Exit condition (case-insensitive)\n",
    "    if state.lower() == \"exit\":\n",
    "        print(\"Goodbye!\")\n",
    "        break\n",
    "\n",
    "    if state in capitals_dict:\n",
    "        guess = input(f\"What is the capital of {state}? \")\n",
    "\n",
    "        # Check answer (case-insensitive)\n",
    "        if guess.lower() == capitals_dict[state].lower():\n",
    "            print(\"Correct!\\n\")\n",
    "        else:\n",
    "            print(f\"Wrong. The capital of {state} is {capitals_dict[state]}.\\n\")\n",
    "    else:\n",
    "        print(\"That state is not in the dictionary. Try again.\\n\")\n"
   ]
  },
  {
   "cell_type": "code",
   "execution_count": null,
   "id": "181acde1-36d2-455f-889f-bc1eb0c8902d",
   "metadata": {},
   "outputs": [],
   "source": []
  }
 ],
 "metadata": {
  "kernelspec": {
   "display_name": "Python 3 (ipykernel)",
   "language": "python",
   "name": "python3"
  },
  "language_info": {
   "codemirror_mode": {
    "name": "ipython",
    "version": 3
   },
   "file_extension": ".py",
   "mimetype": "text/x-python",
   "name": "python",
   "nbconvert_exporter": "python",
   "pygments_lexer": "ipython3",
   "version": "3.13.5"
  }
 },
 "nbformat": 4,
 "nbformat_minor": 5
}
