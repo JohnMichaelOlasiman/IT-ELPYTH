{
 "cells": [
  {
   "cell_type": "markdown",
   "id": "6e9de89a-2d9b-420b-aa6f-0df80a900f36",
   "metadata": {},
   "source": [
    "# Review Question 1"
   ]
  },
  {
   "cell_type": "code",
   "execution_count": 48,
   "id": "48bdd217-1443-4f80-ab29-e4d7bd13a7c1",
   "metadata": {},
   "outputs": [
    {
     "name": "stdout",
     "output_type": "stream",
     "text": [
      "8\n",
      "27\n",
      "64\n"
     ]
    }
   ],
   "source": [
    "# 1.\n",
    "def cube(x):\n",
    "    return x ** 3\n",
    "print(cube(2))\n",
    "print(cube(3))\n",
    "print(cube(4))"
   ]
  },
  {
   "cell_type": "code",
   "execution_count": 9,
   "id": "62fcbd7b-8095-418c-8683-abc057fa8f3d",
   "metadata": {},
   "outputs": [
    {
     "name": "stdout",
     "output_type": "stream",
     "text": [
      "Hello John!\n"
     ]
    }
   ],
   "source": [
    "# 2\n",
    "def greet(name):\n",
    "    print(f\"Hello {name}!\")\n",
    "\n",
    "greet(\"John\")"
   ]
  },
  {
   "cell_type": "markdown",
   "id": "2f445e19-7a40-4a0c-9da6-b31a54c9a0c6",
   "metadata": {},
   "source": [
    "# CHALLENGE: CONVERT TEMPERATURES"
   ]
  },
  {
   "cell_type": "code",
   "execution_count": 46,
   "id": "b58052aa-942a-408c-9c5d-c43ad7eb211a",
   "metadata": {},
   "outputs": [
    {
     "name": "stdin",
     "output_type": "stream",
     "text": [
      "Enter a temperature in degrees F:  72\n"
     ]
    },
    {
     "name": "stdout",
     "output_type": "stream",
     "text": [
      "72 degrees F = 22.22 degrees C\n"
     ]
    }
   ],
   "source": [
    "# 1.\n",
    "def convert_cel_to_far(cel):\n",
    "    far = (cel * 9/5) + 32\n",
    "    return far\n",
    "\n",
    "far = int(input(\"Enter a temperature in degrees F: \"))\n",
    "cel = convert_far_to_cel(far)\n",
    "print(f\"{far} degrees F = {cel:.2f} degrees C\")"
   ]
  },
  {
   "cell_type": "code",
   "execution_count": 47,
   "id": "db6293d3-8c44-442d-8e9a-27638aa70c7a",
   "metadata": {},
   "outputs": [
    {
     "name": "stdin",
     "output_type": "stream",
     "text": [
      "Enter a temperature in degrees C:  37\n"
     ]
    },
    {
     "name": "stdout",
     "output_type": "stream",
     "text": [
      "37 degrees C = 98.60 degrees F\n"
     ]
    }
   ],
   "source": [
    "# 2.\n",
    "def convert_far_to_cel(far):\n",
    "    cel = (far - 32) * 5/9\n",
    "    return cel\n",
    "    \n",
    "\n",
    "cel = int(input(\"Enter a temperature in degrees C: \"))\n",
    "far = convert_cel_to_far(cel)\n",
    "print(f\"{cel} degrees C = {far:.2f} degrees F\")"
   ]
  },
  {
   "cell_type": "markdown",
   "id": "52418ec8-17d4-4097-a917-4226743fcd0f",
   "metadata": {},
   "source": [
    "# Review Question 2"
   ]
  },
  {
   "cell_type": "code",
   "execution_count": 37,
   "id": "b841e547-add0-4b27-bbc2-2a50115dcafa",
   "metadata": {},
   "outputs": [
    {
     "name": "stdout",
     "output_type": "stream",
     "text": [
      "2\n",
      "3\n",
      "4\n",
      "5\n",
      "6\n",
      "7\n",
      "8\n",
      "9\n",
      "10\n"
     ]
    }
   ],
   "source": [
    "# 1.\n",
    "for i in range(2,11):\n",
    "    print(i)"
   ]
  },
  {
   "cell_type": "code",
   "execution_count": 7,
   "id": "f4ed2153-7755-459b-8724-3fa1ad2cadfb",
   "metadata": {},
   "outputs": [
    {
     "name": "stdout",
     "output_type": "stream",
     "text": [
      "2\n",
      "3\n",
      "4\n",
      "5\n",
      "6\n",
      "7\n",
      "8\n",
      "9\n",
      "10\n"
     ]
    }
   ],
   "source": [
    "# 2\n",
    "n = 2\n",
    "while n <= 10:\n",
    "    print(n)\n",
    "    n += 1"
   ]
  },
  {
   "cell_type": "code",
   "execution_count": 49,
   "id": "b1123ec8-5f89-44a1-a2bd-0b21cc727c5a",
   "metadata": {},
   "outputs": [
    {
     "name": "stdout",
     "output_type": "stream",
     "text": [
      "4\n",
      "8\n",
      "16\n"
     ]
    }
   ],
   "source": [
    "# 3\n",
    "def doubles(n):\n",
    "    return n * 2\n",
    "\n",
    "num = 2\n",
    "for i in range(3):\n",
    "    num = doubles(num)\n",
    "    print(num)"
   ]
  },
  {
   "cell_type": "code",
   "execution_count": null,
   "id": "945f7b24-45f2-4d74-bcf7-497cb238118e",
   "metadata": {},
   "outputs": [],
   "source": []
  }
 ],
 "metadata": {
  "kernelspec": {
   "display_name": "Python 3 (ipykernel)",
   "language": "python",
   "name": "python3"
  },
  "language_info": {
   "codemirror_mode": {
    "name": "ipython",
    "version": 3
   },
   "file_extension": ".py",
   "mimetype": "text/x-python",
   "name": "python",
   "nbconvert_exporter": "python",
   "pygments_lexer": "ipython3",
   "version": "3.13.5"
  }
 },
 "nbformat": 4,
 "nbformat_minor": 5
}
