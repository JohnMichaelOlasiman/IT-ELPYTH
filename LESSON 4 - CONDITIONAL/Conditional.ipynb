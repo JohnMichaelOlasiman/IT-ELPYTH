{
 "cells": [
  {
   "cell_type": "markdown",
   "id": "e1cf94e6-f0ed-4f60-85a9-71ba5cd20161",
   "metadata": {},
   "source": [
    "# Review Question 1"
   ]
  },
  {
   "cell_type": "code",
   "execution_count": 37,
   "id": "09c24acf-ad8e-4238-9658-d28aedd93274",
   "metadata": {},
   "outputs": [
    {
     "name": "stdout",
     "output_type": "stream",
     "text": [
      "True\n",
      "False\n",
      "True\n",
      "True\n",
      "True\n",
      "False\n"
     ]
    }
   ],
   "source": [
    "# 1\n",
    "1 <= 1\n",
    "1 != 1\n",
    "1 != 2\n",
    "\"good\" != \"bad\"\n",
    "\"good\" != \"Good\"\n",
    "123 == \"123\"\n",
    "\n",
    "print(1 <= 1)\n",
    "print(1 != 1)\n",
    "print(1 != 2)\n",
    "print(\"good\" != \"bad\")\n",
    "print(\"good\" != \"Good\")\n",
    "print(123 == \"123\")"
   ]
  },
  {
   "cell_type": "code",
   "execution_count": 38,
   "id": "2019183f-633d-44a9-8010-10688081e4ff",
   "metadata": {},
   "outputs": [
    {
     "name": "stdout",
     "output_type": "stream",
     "text": [
      "True\n",
      "True\n",
      "True\n",
      "True\n"
     ]
    }
   ],
   "source": [
    "# 2\n",
    "3 < 4\n",
    "10 > 5\n",
    "\"jack\" != \"jill\"\n",
    "42 != \"42\"\n",
    "\n",
    "print(3 < 4)\n",
    "print(10 > 5)\n",
    "print(\"jack\" != \"jill\")\n",
    "print(42 != \"42\")"
   ]
  },
  {
   "cell_type": "markdown",
   "id": "46804e1f-223f-4e55-b39a-74f08c22f7d0",
   "metadata": {},
   "source": [
    "# Review Question 2"
   ]
  },
  {
   "cell_type": "code",
   "execution_count": 39,
   "id": "54230afa-c1ea-4e8a-9e68-bb004aefb438",
   "metadata": {},
   "outputs": [
    {
     "name": "stdout",
     "output_type": "stream",
     "text": [
      "False\n",
      "False\n",
      "True\n",
      "False\n"
     ]
    }
   ],
   "source": [
    "# 1\n",
    "(1 <= 1) and (1 != 1)\n",
    "not (1 != 2)\n",
    "(\"good\" != \"bad\") or False\n",
    "(\"good\" != \"Good\") and not (1 == 1)\n",
    "\n",
    "print((1 <= 1) and (1 != 1))\n",
    "print(not (1 != 2))\n",
    "print((\"good\" != \"bad\") or False)\n",
    "print((\"good\" != \"Good\") and not (1 == 1))"
   ]
  },
  {
   "cell_type": "code",
   "execution_count": 58,
   "id": "60ab13ba-dd0b-40db-a4b5-87281d9982d2",
   "metadata": {},
   "outputs": [
    {
     "name": "stdout",
     "output_type": "stream",
     "text": [
      "True\n",
      "True\n",
      "True\n"
     ]
    }
   ],
   "source": [
    "# 2\n",
    "(False) == (not True)\n",
    "(True and False) == (True and False)\n",
    "not (True and \"A\") == \"B\"\n",
    "\n",
    "print((False) == (not True))\n",
    "print((True and False) == (True and False))\n",
    "print(not (True and \"A\") == \"B\")"
   ]
  },
  {
   "cell_type": "markdown",
   "id": "8f4dcd36-545a-472b-a291-7c2eb46f44dc",
   "metadata": {},
   "source": [
    "# Review Question 3"
   ]
  },
  {
   "cell_type": "code",
   "execution_count": 4,
   "id": "7734d772-f59e-4aad-a1bc-09565c35d1e1",
   "metadata": {},
   "outputs": [
    {
     "name": "stdin",
     "output_type": "stream",
     "text": [
      "Enter a word:  asdfg\n"
     ]
    },
    {
     "name": "stdout",
     "output_type": "stream",
     "text": [
      "asdfg has equal to 5 characters\n"
     ]
    }
   ],
   "source": [
    "user_input = input(\"Enter a word: \")\n",
    "length = len(user_input)\n",
    "\n",
    "if length < 5:\n",
    "    print(f\"{user_input} has less than 5 characters\")\n",
    "elif length > 5:\n",
    "    print(f\"{user_input} has more than 5 characters\")\n",
    "else:\n",
    "    print(f\"{user_input} has equal to 5 characters\")"
   ]
  },
  {
   "cell_type": "markdown",
   "id": "f0873505-c2bf-403d-8a67-057e9a838b76",
   "metadata": {},
   "source": [
    "# Review Question 4"
   ]
  },
  {
   "cell_type": "code",
   "execution_count": 8,
   "id": "b7c858bd-2190-4f1d-9602-79c4255e17d7",
   "metadata": {},
   "outputs": [
    {
     "name": "stdin",
     "output_type": "stream",
     "text": [
      "Enter something (or Q to quit):  asd\n"
     ]
    },
    {
     "name": "stdout",
     "output_type": "stream",
     "text": [
      "You entered: asd\n"
     ]
    },
    {
     "name": "stdin",
     "output_type": "stream",
     "text": [
      "Enter something (or Q to quit):  q\n"
     ]
    },
    {
     "name": "stdout",
     "output_type": "stream",
     "text": [
      "Exit\n"
     ]
    }
   ],
   "source": [
    "for n in range(100):\n",
    "    user_input = input(\"Enter something (or Q to quit): \")\n",
    "    if user_input == \"Q\" or user_input == \"q\":\n",
    "        print(\"Exit\")\n",
    "        break\n",
    "    print(f\"You entered: {user_input}\")\n"
   ]
  },
  {
   "cell_type": "code",
   "execution_count": 14,
   "id": "f22a04eb-228c-4789-8862-28cc890fed36",
   "metadata": {},
   "outputs": [
    {
     "name": "stdout",
     "output_type": "stream",
     "text": [
      "1\n",
      "2\n",
      "4\n",
      "5\n",
      "7\n",
      "8\n",
      "10\n",
      "11\n",
      "13\n",
      "14\n",
      "16\n",
      "17\n",
      "19\n",
      "20\n",
      "22\n",
      "23\n",
      "25\n",
      "26\n",
      "28\n",
      "29\n",
      "31\n",
      "32\n",
      "34\n",
      "35\n",
      "37\n",
      "38\n",
      "40\n",
      "41\n",
      "43\n",
      "44\n",
      "46\n",
      "47\n",
      "49\n",
      "50\n"
     ]
    }
   ],
   "source": [
    "for num in range(1, 51):\n",
    "    if num % 3 == 0:\n",
    "        continue\n",
    "    print(num)"
   ]
  },
  {
   "cell_type": "markdown",
   "id": "c8d22ae4-a836-4bef-9a6e-41cc2d6c51d7",
   "metadata": {},
   "source": [
    "# Review Question 5"
   ]
  },
  {
   "cell_type": "code",
   "execution_count": 20,
   "id": "b6f5acca-75c0-4649-a84e-abd7206bce6e",
   "metadata": {},
   "outputs": [
    {
     "name": "stdin",
     "output_type": "stream",
     "text": [
      "Enter an integer:  1.1\n"
     ]
    },
    {
     "name": "stdout",
     "output_type": "stream",
     "text": [
      "Try again. That is not an integer!\n"
     ]
    },
    {
     "name": "stdin",
     "output_type": "stream",
     "text": [
      "Enter an integer:  2.2\n"
     ]
    },
    {
     "name": "stdout",
     "output_type": "stream",
     "text": [
      "Try again. That is not an integer!\n"
     ]
    },
    {
     "name": "stdin",
     "output_type": "stream",
     "text": [
      "Enter an integer:  3\n"
     ]
    },
    {
     "name": "stdout",
     "output_type": "stream",
     "text": [
      "You entered: 3\n"
     ]
    }
   ],
   "source": [
    "while True:\n",
    "    try:\n",
    "        number = int(input(\"Enter an integer: \"))\n",
    "        print(f\"You entered: {number}\")\n",
    "        break\n",
    "    except ValueError:\n",
    "        print(\"Try again. That is not an integer!\")"
   ]
  },
  {
   "cell_type": "code",
   "execution_count": 24,
   "id": "56b76085-fb75-4519-a561-b039af886033",
   "metadata": {},
   "outputs": [
    {
     "name": "stdin",
     "output_type": "stream",
     "text": [
      "Enter a string:  asd\n",
      "Enter an index:  2\n"
     ]
    },
    {
     "name": "stdout",
     "output_type": "stream",
     "text": [
      "The character at index 2 is: d\n"
     ]
    }
   ],
   "source": [
    "text = input(\"Enter a string: \")\n",
    "try:\n",
    "    index = int(input(\"Enter an index: \"))\n",
    "    print(f\"The character at index {index} is: {text[index]}\")\n",
    "except (ValueError, IndexError):\n",
    "    print(\"Invalid index! It must be a number within the string's range.\")"
   ]
  },
  {
   "cell_type": "markdown",
   "id": "a075dd95-65ec-46b9-b1b7-c4e8a7162162",
   "metadata": {},
   "source": [
    "# Review Question 6"
   ]
  },
  {
   "cell_type": "code",
   "execution_count": 38,
   "id": "bf4f5ed8-9074-4885-8d98-1c0717549aa3",
   "metadata": {},
   "outputs": [
    {
     "name": "stdout",
     "output_type": "stream",
     "text": [
      "Result: 4\n"
     ]
    }
   ],
   "source": [
    "import random\n",
    "\n",
    "def roll():\n",
    "    return random.randint(1, 6)\n",
    "result = roll()\n",
    "print(f\"Result: {result}\")"
   ]
  },
  {
   "cell_type": "code",
   "execution_count": 27,
   "id": "aba97123-ad4e-4a99-955a-621accd0c35b",
   "metadata": {},
   "outputs": [
    {
     "name": "stdout",
     "output_type": "stream",
     "text": [
      "Average number rolled after 10000 rolls: 3.4842\n"
     ]
    }
   ],
   "source": [
    "import random\n",
    "\n",
    "def roll():\n",
    "    return random.randint(1, 6)\n",
    "\n",
    "total = 0\n",
    "rolls = 10000\n",
    "\n",
    "for _ in range(rolls):\n",
    "    total += roll()\n",
    "\n",
    "average = total / rolls\n",
    "print(f\"Average number rolled after {rolls} rolls: {average}\")\n"
   ]
  },
  {
   "cell_type": "markdown",
   "id": "10dd402a-db54-4771-8725-5f401efd4910",
   "metadata": {},
   "source": [
    "# Challenge: Simulate an Election"
   ]
  },
  {
   "cell_type": "code",
   "execution_count": 44,
   "id": "e68ed597-c646-477a-8cb4-ac005d91cf6a",
   "metadata": {},
   "outputs": [
    {
     "name": "stdout",
     "output_type": "stream",
     "text": [
      "Region 1: 87% chance of winning\n",
      "Region 2: 65% chance of winning\n",
      "Region 3: 17% chance of winning\n"
     ]
    }
   ],
   "source": [
    "import random\n",
    "\n",
    "def simulate_election():\n",
    "    region_probabilities = [87, 65, 17]\n",
    "\n",
    "    for i, chance in enumerate(region_probabilities, start=1):\n",
    "        print(f\"Region {i}: {chance}% chance of winning\")\n",
    "\n",
    "simulate_election()\n"
   ]
  },
  {
   "cell_type": "code",
   "execution_count": null,
   "id": "f65f5c03-bf3a-4274-8f3e-20e137231817",
   "metadata": {},
   "outputs": [],
   "source": []
  }
 ],
 "metadata": {
  "kernelspec": {
   "display_name": "Python [conda env:base] *",
   "language": "python",
   "name": "conda-base-py"
  },
  "language_info": {
   "codemirror_mode": {
    "name": "ipython",
    "version": 3
   },
   "file_extension": ".py",
   "mimetype": "text/x-python",
   "name": "python",
   "nbconvert_exporter": "python",
   "pygments_lexer": "ipython3",
   "version": "3.13.5"
  }
 },
 "nbformat": 4,
 "nbformat_minor": 5
}
