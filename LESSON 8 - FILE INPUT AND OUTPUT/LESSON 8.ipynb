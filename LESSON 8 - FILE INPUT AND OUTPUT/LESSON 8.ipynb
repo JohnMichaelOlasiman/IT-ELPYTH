{
 "cells": [
  {
   "cell_type": "markdown",
   "id": "a6ed52a2-c9dc-4660-8795-0298c47ce3cb",
   "metadata": {},
   "source": [
    "# Review Exercise 1"
   ]
  },
  {
   "cell_type": "code",
   "execution_count": 6,
   "id": "3fd4867e-b49b-4167-9358-fb707d9a30e3",
   "metadata": {},
   "outputs": [
    {
     "name": "stdout",
     "output_type": "stream",
     "text": [
      "C:\\Users\\Jan\\MY_FOLDER\\MY_FILE.TXT\n"
     ]
    }
   ],
   "source": [
    "# 1\n",
    "from pathlib import Path\n",
    "\n",
    "home_dir = Path.home()\n",
    "FILE_PATH = home_dir / \"MY_FOLDER\" / \"MY_FILE.TXT\"\n",
    "print(FILE_PATH)"
   ]
  },
  {
   "cell_type": "code",
   "execution_count": 7,
   "id": "2d6ad3f1-7cdc-4827-89fa-383ef692726e",
   "metadata": {},
   "outputs": [
    {
     "data": {
      "text/plain": [
       "False"
      ]
     },
     "execution_count": 7,
     "metadata": {},
     "output_type": "execute_result"
    }
   ],
   "source": [
    "# 2\n",
    "FILE_PATH.exists()"
   ]
  },
  {
   "cell_type": "code",
   "execution_count": 8,
   "id": "5b92a171-cb9d-4728-84b0-2d6ac86872ec",
   "metadata": {},
   "outputs": [
    {
     "data": {
      "text/plain": [
       "'MY_FILE.TXT'"
      ]
     },
     "execution_count": 8,
     "metadata": {},
     "output_type": "execute_result"
    }
   ],
   "source": [
    "# 3\n",
    "FILE_PATH.name"
   ]
  },
  {
   "cell_type": "code",
   "execution_count": 9,
   "id": "f0bb0ce4-ef96-4a04-8134-b89bc01c92e4",
   "metadata": {},
   "outputs": [
    {
     "data": {
      "text/plain": [
       "'MY_FOLDER'"
      ]
     },
     "execution_count": 9,
     "metadata": {},
     "output_type": "execute_result"
    }
   ],
   "source": [
    "FILE_PATH.parent.name"
   ]
  },
  {
   "cell_type": "markdown",
   "id": "6675b774-6dc6-459d-8fe9-bdcfb6db3501",
   "metadata": {},
   "source": [
    "# Review Exercise 2"
   ]
  },
  {
   "cell_type": "code",
   "execution_count": 11,
   "id": "5c9552a2-0607-4837-a79c-84fccf6182dd",
   "metadata": {},
   "outputs": [
    {
     "name": "stdout",
     "output_type": "stream",
     "text": [
      "Created: True\n"
     ]
    }
   ],
   "source": [
    "# 1\n",
    "home_dir = Path.home()\n",
    "my_folder = home_dir / \"MY_FOLDER\"\n",
    "my_folder.mkdir(exist_ok=True)\n",
    "print(\"Created:\", my_folder.exists())"
   ]
  },
  {
   "cell_type": "code",
   "execution_count": 14,
   "id": "d3c077fd-b15b-4170-9c9a-7edebb77fe1a",
   "metadata": {},
   "outputs": [
    {
     "name": "stdout",
     "output_type": "stream",
     "text": [
      "Files created:\n",
      "True True True\n"
     ]
    }
   ],
   "source": [
    "# 2\n",
    "file1 = my_folder / \"FILE1.TXT\"\n",
    "file2 = my_folder / \"FILE2.TXT\"\n",
    "image1 = my_folder / \"IMAGE1.PNG\"\n",
    "\n",
    "file1.write_text(\"This is FILE1.\")\n",
    "file2.write_text(\"This is FILE2.\")\n",
    "image1.write_bytes(b\"PNG demo file\")  # creates a dummy binary file\n",
    "\n",
    "print(\"Files created:\")\n",
    "print(file1.exists(), file2.exists(), image1.exists())"
   ]
  },
  {
   "cell_type": "code",
   "execution_count": 13,
   "id": "3fdfb713-c99b-4cbd-8f6d-93f6122482ce",
   "metadata": {},
   "outputs": [
    {
     "name": "stdout",
     "output_type": "stream",
     "text": [
      "Moved: True\n"
     ]
    }
   ],
   "source": [
    "# 3\n",
    "images_dir = my_folder / \"IMAGES\"\n",
    "images_dir.mkdir(exist_ok=True)\n",
    "\n",
    "new_image_path = images_dir / image1.name\n",
    "image1.rename(new_image_path)\n",
    "\n",
    "print(\"Moved:\", new_image_path.exists())"
   ]
  },
  {
   "cell_type": "code",
   "execution_count": 15,
   "id": "e84d998b-07a5-4652-9734-5282e4e486fb",
   "metadata": {},
   "outputs": [
    {
     "name": "stdout",
     "output_type": "stream",
     "text": [
      "FILE1 deleted: True\n"
     ]
    }
   ],
   "source": [
    "# 4\n",
    "file1.unlink()\n",
    "print(\"FILE1 deleted:\", not file1.exists())"
   ]
  },
  {
   "cell_type": "code",
   "execution_count": 17,
   "id": "8884ab40-fc7a-4c09-96b8-c205680ad95f",
   "metadata": {},
   "outputs": [
    {
     "name": "stdout",
     "output_type": "stream",
     "text": [
      "Deleted MY_FOLDER and all its contents.\n"
     ]
    }
   ],
   "source": [
    "# 5\n",
    "from pathlib import Path\n",
    "import shutil\n",
    "\n",
    "my_folder = Path.home() / \"MY_FOLDER\"\n",
    "\n",
    "# Option 1: Safest — delete the entire directory tree recursively\n",
    "if my_folder.exists():\n",
    "    shutil.rmtree(my_folder)\n",
    "    print(\"Deleted MY_FOLDER and all its contents.\")\n",
    "else:\n",
    "    print(\"MY_FOLDER not found.\")"
   ]
  },
  {
   "cell_type": "markdown",
   "id": "e24429c3-bb4e-473c-9414-103ba1846540",
   "metadata": {},
   "source": [
    "# CHALLENGE: MOVE ALL FILES TO A NEW DIRECTORY"
   ]
  },
  {
   "cell_type": "code",
   "execution_count": 18,
   "id": "d53cbc52-f2f3-42b6-87cb-7b2dfc88017d",
   "metadata": {},
   "outputs": [
    {
     "name": "stdout",
     "output_type": "stream",
     "text": [
      "Practice folder: C:\\Users\\Jan\\Practice_Files\n"
     ]
    }
   ],
   "source": [
    "from pathlib import Path\n",
    "\n",
    "# Define your base \"practice files\" folder (you can change this if needed)\n",
    "practice_folder = Path.home() / \"Practice_Files\"\n",
    "practice_folder.mkdir(exist_ok=True)\n",
    "\n",
    "print(\"Practice folder:\", practice_folder)"
   ]
  },
  {
   "cell_type": "code",
   "execution_count": 19,
   "id": "555f5552-1769-41e9-b900-30e3b8d2bf48",
   "metadata": {},
   "outputs": [
    {
     "name": "stdout",
     "output_type": "stream",
     "text": [
      "Image files created: ['IMAGE1.PNG', 'IMAGE2.GIF', 'IMAGE3.PNG', 'IMAGE4.JPG']\n"
     ]
    }
   ],
   "source": [
    "image_names = [\"IMAGE1.PNG\", \"IMAGE2.GIF\", \"IMAGE3.PNG\", \"IMAGE4.JPG\"]\n",
    "\n",
    "for name in image_names:\n",
    "    (practice_folder / name).write_bytes(b\"FAKEIMAGE\") \n",
    "\n",
    "print(\"Image files created:\", [f.name for f in practice_folder.iterdir() if f.is_file()])"
   ]
  },
  {
   "cell_type": "code",
   "execution_count": 20,
   "id": "6a564e3b-c1c4-4a5b-9a3e-db1e41a10e45",
   "metadata": {},
   "outputs": [
    {
     "name": "stdout",
     "output_type": "stream",
     "text": [
      "Created folder: C:\\Users\\Jan\\Practice_Files\\IMAGES\n"
     ]
    }
   ],
   "source": [
    "images_folder = practice_folder / \"IMAGES\"\n",
    "images_folder.mkdir(exist_ok=True)\n",
    "print(\"Created folder:\", images_folder)"
   ]
  },
  {
   "cell_type": "code",
   "execution_count": 22,
   "id": "2a9fb07c-826d-40f8-82be-de4e004ff6e6",
   "metadata": {},
   "outputs": [
    {
     "name": "stdout",
     "output_type": "stream",
     "text": [
      "Moved all images\n"
     ]
    }
   ],
   "source": [
    "image_extensions = {\".png\", \".jpg\", \".jpeg\", \".gif\"}\n",
    "\n",
    "for file in practice_folder.iterdir():\n",
    "    if file.is_file() and file.suffix.lower() in image_extensions:\n",
    "        file.rename(images_folder / file.name)\n",
    "\n",
    "print(\"Moved all images\")"
   ]
  },
  {
   "cell_type": "code",
   "execution_count": 23,
   "id": "db0d54e9-a80a-4e63-a472-c10a966cfa0f",
   "metadata": {},
   "outputs": [
    {
     "name": "stdout",
     "output_type": "stream",
     "text": [
      "Files now in IMAGES/: ['IMAGE1.PNG', 'IMAGE2.GIF', 'IMAGE3.PNG', 'IMAGE4.JPG']\n",
      "Remaining in Practice_Files/: ['IMAGES']\n"
     ]
    }
   ],
   "source": [
    "print(\"Files now in IMAGES/:\", [f.name for f in images_folder.iterdir()])\n",
    "print(\"Remaining in Practice_Files/:\", [f.name for f in practice_folder.iterdir()])"
   ]
  },
  {
   "cell_type": "markdown",
   "id": "1f12c015-1dc1-4512-bf79-44047a3a44d3",
   "metadata": {},
   "source": [
    "# Review Exercise 3"
   ]
  },
  {
   "cell_type": "code",
   "execution_count": 24,
   "id": "5e397e97-1f47-4eb3-8bf0-b0ca94b8ee1c",
   "metadata": {},
   "outputs": [
    {
     "name": "stdout",
     "output_type": "stream",
     "text": [
      "File created at: C:\\Users\\Jan\\STARSHIPS.TXT\n"
     ]
    }
   ],
   "source": [
    "# 1\n",
    "from pathlib import Path\n",
    "\n",
    "# Define path to the file\n",
    "file_path = Path.home() / \"STARSHIPS.TXT\"\n",
    "\n",
    "# Define the text content\n",
    "starships = [\"DISCOVERY\", \"ENTERPRISE\", \"DEFIANT\", \"VOYAGER\"]\n",
    "\n",
    "# Write each starship name on a new line\n",
    "file_path.write_text(\"\\n\".join(starships))\n",
    "\n",
    "print(f\"File created at: {file_path}\")"
   ]
  },
  {
   "cell_type": "code",
   "execution_count": 26,
   "id": "e3761b1a-16a3-4c3a-8395-8a646ed3bc81",
   "metadata": {},
   "outputs": [
    {
     "name": "stdout",
     "output_type": "stream",
     "text": [
      "DISCOVERY\n",
      "ENTERPRISE\n",
      "DEFIANT\n",
      "VOYAGER\n"
     ]
    }
   ],
   "source": [
    "# 2\n",
    "with open(file_path, \"r\") as f:\n",
    "    lines = f.readlines()\n",
    "\n",
    "# Remove newline characters and print each line\n",
    "for line in lines:\n",
    "    print(line.strip())"
   ]
  },
  {
   "cell_type": "code",
   "execution_count": 27,
   "id": "d4758132-c710-4a46-8030-108bf4bebd97",
   "metadata": {},
   "outputs": [
    {
     "name": "stdout",
     "output_type": "stream",
     "text": [
      "Starships starting with D:\n",
      "DISCOVERY\n",
      "DEFIANT\n"
     ]
    }
   ],
   "source": [
    "# 3\n",
    "with open(file_path, \"r\") as f:\n",
    "    lines = [line.strip() for line in f if line.strip()]\n",
    "\n",
    "print(\"Starships starting with D:\")\n",
    "for name in lines:\n",
    "    if name.startswith(\"D\"):\n",
    "        print(name)"
   ]
  },
  {
   "cell_type": "markdown",
   "id": "68f6c6a7-abd9-4e10-b426-74efc46ea37a",
   "metadata": {},
   "source": [
    "# Review Exercise 4"
   ]
  },
  {
   "cell_type": "code",
   "execution_count": 31,
   "id": "df33dcdd-8d2d-4a8e-bc5b-b4febf983cb5",
   "metadata": {},
   "outputs": [
    {
     "name": "stdout",
     "output_type": "stream",
     "text": [
      "File created at C:\\Users\\Jan\\NUMBERS.CSV\n"
     ]
    }
   ],
   "source": [
    "# 1\n",
    "import csv\n",
    "from pathlib import Path\n",
    "\n",
    "numbers = [\n",
    "    [1, 2, 3, 4, 5],\n",
    "    [6, 7, 8, 9, 10],\n",
    "    [11, 12, 13, 14, 15]\n",
    "]\n",
    "file_path = Path.home() / \"NUMBERS.CSV\"\n",
    "\n",
    "with open(file_path, \"w\", newline=\"\") as f:\n",
    "    writer = csv.writer(f)\n",
    "    writer.writerows(numbers)\n",
    "\n",
    "print(f\"File created at {file_path}\")"
   ]
  },
  {
   "cell_type": "code",
   "execution_count": 32,
   "id": "0294d500-143d-4490-a1f7-f7cdd5ca3939",
   "metadata": {},
   "outputs": [
    {
     "name": "stdout",
     "output_type": "stream",
     "text": [
      "Numbers read from CSV:\n",
      "[[1, 2, 3, 4, 5], [6, 7, 8, 9, 10], [11, 12, 13, 14, 15]]\n"
     ]
    }
   ],
   "source": [
    "# 2\n",
    "import csv\n",
    "from pathlib import Path\n",
    "\n",
    "file_path = Path.home() / \"NUMBERS.CSV\"\n",
    "\n",
    "numbers = []\n",
    "with open(file_path, \"r\") as f:\n",
    "    reader = csv.reader(f)\n",
    "    for row in reader:\n",
    "        numbers.append([int(num) for num in row])\n",
    "\n",
    "print(\"Numbers read from CSV:\")\n",
    "print(numbers)"
   ]
  },
  {
   "cell_type": "code",
   "execution_count": 33,
   "id": "30e1a355-bd97-4766-81da-41e291b1775b",
   "metadata": {},
   "outputs": [
    {
     "name": "stdout",
     "output_type": "stream",
     "text": [
      "File created at C:\\Users\\Jan\\FAVORITE_COLORS.CSV\n"
     ]
    }
   ],
   "source": [
    "# 3\n",
    "import csv\n",
    "from pathlib import Path\n",
    "\n",
    "favorite_colors = [\n",
    "    {\"name\": \"Joe\", \"favorite_color\": \"blue\"},\n",
    "    {\"name\": \"Anne\", \"favorite_color\": \"green\"},\n",
    "    {\"name\": \"Bailey\", \"favorite_color\": \"red\"}\n",
    "]\n",
    "\n",
    "file_path = Path.home() / \"FAVORITE_COLORS.CSV\"\n",
    "\n",
    "with open(file_path, \"w\", newline=\"\") as f:\n",
    "    writer = csv.DictWriter(f, fieldnames=[\"name\", \"favorite_color\"])\n",
    "    writer.writeheader()\n",
    "    writer.writerows(favorite_colors)\n",
    "\n",
    "print(f\"File created at {file_path}\")"
   ]
  },
  {
   "cell_type": "code",
   "execution_count": 34,
   "id": "226549cb-4048-4094-99e5-00db4a6e44c7",
   "metadata": {},
   "outputs": [
    {
     "name": "stdout",
     "output_type": "stream",
     "text": [
      "Favorite colors read from CSV:\n",
      "[{'name': 'Joe', 'favorite_color': 'blue'}, {'name': 'Anne', 'favorite_color': 'green'}, {'name': 'Bailey', 'favorite_color': 'red'}]\n"
     ]
    }
   ],
   "source": [
    "# 4\n",
    "import csv\n",
    "from pathlib import Path\n",
    "\n",
    "file_path = Path.home() / \"FAVORITE_COLORS.CSV\"\n",
    "\n",
    "favorite_colors = []\n",
    "with open(file_path, \"r\") as f:\n",
    "    reader = csv.DictReader(f)\n",
    "    for row in reader:\n",
    "        favorite_colors.append(dict(row))\n",
    "\n",
    "print(\"Favorite colors read from CSV:\")\n",
    "print(favorite_colors)"
   ]
  },
  {
   "cell_type": "code",
   "execution_count": null,
   "id": "18a7d2b9-6866-4c24-b2f8-34d9b5bce391",
   "metadata": {},
   "outputs": [],
   "source": []
  }
 ],
 "metadata": {
  "kernelspec": {
   "display_name": "Python [conda env:base] *",
   "language": "python",
   "name": "conda-base-py"
  },
  "language_info": {
   "codemirror_mode": {
    "name": "ipython",
    "version": 3
   },
   "file_extension": ".py",
   "mimetype": "text/x-python",
   "name": "python",
   "nbconvert_exporter": "python",
   "pygments_lexer": "ipython3",
   "version": "3.13.5"
  }
 },
 "nbformat": 4,
 "nbformat_minor": 5
}
