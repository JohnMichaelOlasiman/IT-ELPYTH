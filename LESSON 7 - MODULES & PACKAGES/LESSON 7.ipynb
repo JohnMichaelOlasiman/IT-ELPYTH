{
 "cells": [
  {
   "cell_type": "markdown",
   "id": "000266da-dca8-442a-b86a-d90549cb9b20",
   "metadata": {},
   "source": [
    "# Review Exercise 1"
   ]
  },
  {
   "cell_type": "code",
   "execution_count": 7,
   "id": "80cf56c1-ab58-425f-a7e5-38b7b4469598",
   "metadata": {},
   "outputs": [],
   "source": [
    "# 1\n",
    "def greet(name):\n",
    "    print(f\"Hello {name}!\")\n"
   ]
  },
  {
   "cell_type": "code",
   "execution_count": 6,
   "id": "dbb0731a-60fd-4578-be5d-3b5eb7e3ad05",
   "metadata": {},
   "outputs": [
    {
     "name": "stdout",
     "output_type": "stream",
     "text": [
      "Hello Real Python!\n"
     ]
    }
   ],
   "source": [
    "# 2\n",
    "greet(\"Real Python\")"
   ]
  },
  {
   "cell_type": "markdown",
   "id": "867cf593-3970-49ff-a241-204ade795cf2",
   "metadata": {},
   "source": [
    "# Review Exercise 2"
   ]
  },
  {
   "cell_type": "code",
   "execution_count": 13,
   "id": "8969c0ee-c722-45a2-a12d-ac9c5e3ea3f3",
   "metadata": {},
   "outputs": [],
   "source": [
    "# 1\n",
    "import os\n",
    "\n",
    "# Create package folder structure\n",
    "os.makedirs(\"package_exercises/helpers\", exist_ok=True)\n",
    "\n",
    "# Create empty __init__.py\n",
    "with open(\"package_exercises/helpers/__init__.py\", \"w\") as f:\n",
    "    pass\n"
   ]
  },
  {
   "cell_type": "code",
   "execution_count": 19,
   "id": "fed74538-551f-4d23-919c-c356fcc895c8",
   "metadata": {},
   "outputs": [
    {
     "name": "stdout",
     "output_type": "stream",
     "text": [
      "Overwriting package_exercises/helpers/string.py\n"
     ]
    }
   ],
   "source": [
    "%%writefile package_exercises/helpers/string.py\n",
    "# 1 (continuation)\n",
    "def shout(text):\n",
    "    \"\"\"Return the text in all uppercase letters.\"\"\"\n",
    "    return text.upper()\n"
   ]
  },
  {
   "cell_type": "code",
   "execution_count": 20,
   "id": "6e57a67d-0e4b-4a44-b07b-3a9c659399e6",
   "metadata": {},
   "outputs": [
    {
     "name": "stdout",
     "output_type": "stream",
     "text": [
      "Overwriting package_exercises/helpers/math.py\n"
     ]
    }
   ],
   "source": [
    "%%writefile package_exercises/helpers/math.py\n",
    "# 1 (continuation)\n",
    "def area(length, width):\n",
    "    \"\"\"Return the area of a rectangle (length × width).\"\"\"\n",
    "    return length * width\n"
   ]
  },
  {
   "cell_type": "code",
   "execution_count": 22,
   "id": "c68a0128-1574-4e85-b894-bb31a1e7c478",
   "metadata": {},
   "outputs": [
    {
     "name": "stdout",
     "output_type": "stream",
     "text": [
      "Overwriting package_exercises/main.py\n"
     ]
    }
   ],
   "source": [
    "%%writefile package_exercises/main.py\n",
    "# 2\n",
    "from helpers.string import shout\n",
    "from helpers.math import area\n",
    "\n",
    "length = 5\n",
    "width = 8\n",
    "result = area(length, width)\n",
    "\n",
    "message = f\"The area of a {length}-by-{width} rectangle is {result}\"\n",
    "print(shout(message))\n"
   ]
  },
  {
   "cell_type": "code",
   "execution_count": 12,
   "id": "04528275-4016-4dd1-bb80-845c6d6b8767",
   "metadata": {},
   "outputs": [
    {
     "name": "stdout",
     "output_type": "stream",
     "text": [
      "THE AREA OF A 5-BY-8 RECTANGLE IS 40\n"
     ]
    }
   ],
   "source": [
    "!python package_exercises/main.py"
   ]
  }
 ],
 "metadata": {
  "kernelspec": {
   "display_name": "Python [conda env:base] *",
   "language": "python",
   "name": "conda-base-py"
  },
  "language_info": {
   "codemirror_mode": {
    "name": "ipython",
    "version": 3
   },
   "file_extension": ".py",
   "mimetype": "text/x-python",
   "name": "python",
   "nbconvert_exporter": "python",
   "pygments_lexer": "ipython3",
   "version": "3.13.5"
  }
 },
 "nbformat": 4,
 "nbformat_minor": 5
}
